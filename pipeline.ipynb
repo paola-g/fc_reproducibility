{
 "cells": [
  {
   "cell_type": "markdown",
   "metadata": {},
   "source": [
    "### Required libraries"
   ]
  },
  {
   "cell_type": "code",
   "execution_count": 309,
   "metadata": {
    "collapsed": false
   },
   "outputs": [],
   "source": [
    "%matplotlib inline\n",
    "import matplotlib.pyplot as plt\n",
    "import csv\n",
    "import pandas as pd\n",
    "import sys\n",
    "import numpy as np\n",
    "import os.path as op\n",
    "from os import mkdir\n",
    "import scipy.stats as stats\n",
    "import nipype.interfaces.fsl as fsl\n",
    "from subprocess import call\n",
    "import nibabel as nib"
   ]
  },
  {
   "cell_type": "markdown",
   "metadata": {},
   "source": [
    "### Utils"
   ]
  },
  {
   "cell_type": "code",
   "execution_count": 115,
   "metadata": {
    "collapsed": true
   },
   "outputs": [],
   "source": [
    "def plot_hist(score,title,xlabel):\n",
    "    h,b = np.histogram(score, bins='auto')\n",
    "    plt.hist(score,bins=b)\n",
    "    plt.title(title)\n",
    "    plt.xlabel(xlabel)\n",
    "    plt.ylabel('Frequency')\n",
    "    return h"
   ]
  },
  {
   "cell_type": "markdown",
   "metadata": {},
   "source": [
    "### Parameters"
   ]
  },
  {
   "cell_type": "code",
   "execution_count": 278,
   "metadata": {
    "collapsed": false
   },
   "outputs": [],
   "source": [
    "behavFile = 'unrestricted_luckydjuju_11_17_2015_0_47_11.csv'\n",
    "release = 'Q2'\n",
    "outScore = 'PMAT24_A_CR'\n",
    "DATADIR = '/media/paola/HCP/'\n",
    "PARCELDIR = '/home/paola/parcellations'\n",
    "parcellation = 'shenetal_neuroimage2013'\n",
    "overwrite = False\n",
    "thisRun = 'rfMRI_REST1'\n",
    "isDataClean = True\n",
    "\n",
    "if thisRun == 'rfMRI_REST1':\n",
    "    outMat = 'rest_1_mat'\n",
    "elif thisRun == 'rfMRI_REST2':\n",
    "    outMat = 'rest_1_mat'\n",
    "else:\n",
    "    sys.exit(\"Invalid run code\")  \n",
    "    \n",
    "suffix = '_hp2000_clean' if isDataClean else ''   "
   ]
  },
  {
   "cell_type": "markdown",
   "metadata": {},
   "source": [
    "### Functions"
   ]
  },
  {
   "cell_type": "code",
   "execution_count": 470,
   "metadata": {
    "collapsed": false
   },
   "outputs": [],
   "source": [
    "def makeTissueMasks(subject,fmriRun,overwrite):\n",
    "    fmriFile = op.join(DATADIR, subject, 'MNINonLinear','Results',fmriRun, fmriRun+suffix+'.nii.gz')\n",
    "    WMmaskFileout = op.join(DATADIR, subject, 'MNINonLinear', 'Results', fmriRun, 'WMmask.nii.gz')\n",
    "    CSFmaskFileout = op.join(DATADIR, subject, 'MNINonLinear', 'Results', fmriRun, 'CSFmask.nii.gz')\n",
    "    GMmaskFileout = op.join(DATADIR, subject, 'MNINonLinear', 'Results', fmriRun, 'GMmask.nii.gz')\n",
    "    WMCSFmaskFileout = op.join(DATADIR, subject, 'MNINonLinear', 'Results', fmriRun, 'WMCSFmask.nii.gz')\n",
    "    WMCSFGMmaskFileout = op.join(DATADIR, subject, 'MNINonLinear', 'Results', fmriRun, 'WMCSFGMmask.nii.gz')\n",
    "    \n",
    "    if not op.isfile(WMCSFGMmaskFileout) or overwrite:\n",
    "        # load ribbon.nii.gz and wmparc.nii.gz\n",
    "        ribbonFilein = op.join(DATADIR, subject, 'MNINonLinear','ribbon.nii.gz')\n",
    "        wmparcFilein = op.join(DATADIR, subject, 'MNINonLinear', 'wmparc.nii.gz')\n",
    "        # make sure it is resampled to the same space as the functional run\n",
    "        ribbonFileout = op.join(DATADIR, subject, 'MNINonLinear', 'Results', fmriRun, 'ribbon.nii.gz')\n",
    "        wmparcFileout = op.join(DATADIR, subject, 'MNINonLinear', 'Results', fmriRun, 'wmparc.nii.gz')\n",
    "        # make identity matrix to feed to flirt for resampling\n",
    "        with open('eye.mat','w') as fid:\n",
    "            fid.write('1 0 0 0\\n0 1 0 0\\n0 0 1 0\\n0 0 0 1')\n",
    "        \n",
    "        flirt_ribbon = fsl.FLIRT(in_file=ribbonFilein, out_file=ribbonFileout,\\\n",
    "            reference=fmriFile, apply_xfm=True,\\\n",
    "            in_matrix_file='eye.mat', interp='nearestneighbour')\n",
    "        flirt_ribbon.run()\n",
    "\n",
    "        flirt_wmparc = fsl.FLIRT(in_file=wmparcFilein, out_file=wmparcFileout,\\\n",
    "            reference=fmriFile, apply_xfm=True,\\\n",
    "            in_matrix_file='eye.mat', interp='nearestneighbour')\n",
    "        flirt_wmparc.run()\n",
    "        \n",
    "        # load nii (ribbon & wmparc)\n",
    "        ribbon = nib.load(ribbonFileout).get_data()\n",
    "        wmparc = nib.load(wmparcFileout).get_data()\n",
    "        \n",
    "        # white & CSF matter mask\n",
    "        # indices are from FreeSurferColorLUT.txt\n",
    "        \n",
    "        # Left-Cerebral-White-Matter, Right-Cerebral-White-Matter\n",
    "        ribbonWMstructures = [2, 41]\n",
    "        # Left-Cerebral-Cortex, Right-Cerebral-Cortex\n",
    "        ribbonGMstrucures = [3, 42]\n",
    "        # Cerebellar-White-Matter-Left, Brain-Stem, Cerebellar-White-Matter-Right\n",
    "        wmparcWMstructures = [7, 16, 46]\n",
    "        # Left-Cerebellar-Cortex, Right-Cerebellar-Cortex, Thalamus-Left, Caudate-Left\n",
    "        # Putamen-Left, Pallidum-Left, Hippocampus-Left, Amygdala-Left, Accumbens-Left \n",
    "        # Diencephalon-Ventral-Left, Thalamus-Right, Caudate-Right, Putamen-Right\n",
    "        # Pallidum-Right, Hippocampus-Right, Amygdala-Right, Accumbens-Right\n",
    "        # Diencephalon-Ventral-Right\n",
    "        wmparcGMstructures = [8, 47, 10, 11, 12, 13, 17, 18, 26, 28, 49, 50, 51, 52, 53, 54, 58, 60]\n",
    "        # Fornix, CC-Posterior, CC-Mid-Posterior, CC-Central, CC-Mid-Anterior, CC-Anterior\n",
    "        wmparcCCstructures = [250, 251, 252, 253, 254, 255]\n",
    "        # Left-Lateral-Ventricle, Left-Inf-Lat-Vent, 3rd-Ventricle, 4th-Ventricle, CSF\n",
    "        # Left-Choroid-Plexus, Right-Lateral-Ventricle, Right-Inf-Lat-Vent, Right-Choroid-Plexus\n",
    "        wmparcCSFstructures = [4, 5, 14, 15, 24, 31, 43, 44, 63]\n",
    "        \n",
    "        # make masks\n",
    "        WMmask = np.double(np.in1d(ribbon, ribbonWMstructures).tolist() or \\\n",
    "                           np.in1d(wmparc, wmparcWMstructures).tolist() or \\\n",
    "                           np.in1d(wmparc, wmparcCCstructures).tolist() and \\\n",
    "                           not np.in1d(wmparc, wmparcCSFstructures).tolist() and \\\n",
    "                           not np.in1d(wmparc, wmparcGMstructures).tolist())\n",
    "        CSFmask = np.double(np.in1d(wmparc, wmparcCSFstructures))\n",
    "        WMCSFmask = np.double((WMmask > 0) | (CSFmask > 0))\n",
    "        GMmask = np.double(np.in1d(ribbon,ribbonGMstrucures).tolist() or \\\n",
    "        np.in1d(wmparc,wmparcGMstructures).tolist())\n",
    "        WMCSFGMmask = np.double((WMmask > 0) | (CSFmask > 0) | (GMmask > 0))\n",
    "        \n",
    "        # write masks\n",
    "        ref = nib.load(wmparcFileout)\n",
    "        WMmask = np.reshape(WMmask,ref.shape)\n",
    "        img = nib.Nifti1Image(WMmask, ref.affine)\n",
    "        nib.save(img, WMmaskFileout)\n",
    "        \n",
    "        CSFmask = np.reshape(CSFmask,ref.shape)\n",
    "        img = nib.Nifti1Image(CSFmask, ref.affine)\n",
    "        nib.save(img, CSFmaskFileout)\n",
    "        \n",
    "        GMmask = np.reshape(GMmask,ref.shape)\n",
    "        img = nib.Nifti1Image(GMmask, ref.affine)\n",
    "        nib.save(img, GMmaskFileout)\n",
    "        \n",
    "        WMCSFmask = np.reshape(WMCSFmask,ref.shape)\n",
    "        img = nib.Nifti1Image(WMCSFmask, ref.affine)\n",
    "        nib.save(img, WMCSFmaskFileout)\n",
    "        \n",
    "        WMCSFGMmask = np.reshape(WMCSFGMmask,ref.shape)\n",
    "        img = nib.Nifti1Image(WMCSFGMmask, ref.affine)\n",
    "        nib.save(img, WMCSFGMmaskFileout)"
   ]
  },
  {
   "cell_type": "code",
   "execution_count": 471,
   "metadata": {
    "collapsed": false
   },
   "outputs": [
    {
     "name": "stdout",
     "output_type": "stream",
     "text": [
      "100307\n",
      "rfMRI_REST1_LR\n"
     ]
    }
   ],
   "source": [
    "subject = op.basename(op.dirname(op.dirname(op.dirname(op.dirname(fmriFile)))))\n",
    "print subject\n",
    "fmriRun = op.basename(op.dirname(fmriFile))\n",
    "print fmriRun\n",
    "makeTissueMasks(subject,fmriRun,True)"
   ]
  },
  {
   "cell_type": "code",
   "execution_count": 268,
   "metadata": {
    "collapsed": false
   },
   "outputs": [],
   "source": [
    "def Finn_loadandpreprocess(fmriFile, parcellation, overwrite):\n",
    "    subject = op.basename(op.dirname(op.dirname(op.dirname(op.dirname(fmriFile)))))\n",
    "    fmriRun = op.basename(op.dirname(fmriFile))\n",
    "    ResultsDir = op.join(DATADIR,'Results')\n",
    "    if not op.isdir(ResultsDir): mkdir(ResultsDir)\n",
    "    ResultsDir = op.join(ResultsDir,'Finn')\n",
    "    if not op.isdir(ResultsDir): mkdir(ResultsDir)\n",
    "\n",
    "    if parcellation=='shenetal_neuroimage2013':\n",
    "        uniqueParcels = range(268)\n",
    "    else:\n",
    "        print \"Invalid parcellation code\"\n",
    "        return\n",
    "    \n",
    "    for iParcel in range(len(uniqueParcels)):\n",
    "        parcelMaskFile = op.join(PARCELDIR,parcellation,'parcel{:03d}.nii.gz'.format(iParcel))\n",
    "        if not op.isfile(parcelMaskFile):\n",
    "            print 'Making a binary volume mask for each parcel'\n",
    "            mymaths = fsl.maths.MathsCommand(in_file=op.join(PARCELDIR, parcellation,'fconn_atlas_150_2mm.nii'),\\\n",
    "                out_file=parcelMaskFile, args='-thr {:.1f} -uthr {:.1f}'.format(iParcel-0.1, iParcel+0.1)) \n",
    "            mymaths.run()\n",
    "    if not op.isfile(fmriFile):\n",
    "        print fmriFile, 'does not exist'\n",
    "        return\n",
    "    \n",
    "    tsDir = op.join(op.dirname(fmriFile),parcellation)\n",
    "    if not op.isdir(tsDir): mkdir(tsDir)\n",
    "    alltsFile = op.join(ResultsDir,subject+'_'+fmriRun+'.txt')\n",
    "    alltsGMFile = op.join(ResultsDir,subject+'_'+fmriRun+'_GM.txt')\n",
    "    if not (op.isfile(alltsFile)) or not (op.isfile(alltsGMFile)) or overwrite:\n",
    "        fmriFile_prepro = op.join(DATADIR,subject,'MNINonLinear','Results',\\\n",
    "                                 fmriRun, fmriRun+'_FinnPrepro.nii.gz')\n",
    "        # make WM, CSF, GM masks\n",
    "        if not op.isfile(op.join(DATADIR,subject,'MNINonLinear','Results',\\\n",
    "                                 fmriRun, fmriRun+'GMmask.nii.gz')):\n",
    "            print 'TODO: makeTissueMasks(subject,fmriRun)'\n",
    "        \n",
    "        # perform preprocessing (if not already done)\n",
    "        if not op.isfile(fmriFile_prepro):\n",
    "            print 'TODO: Finn_preprocess(fmriFile)'\n",
    "            \n",
    "        # calculate signal in each of the nodes by averaging across all voxels in node\n",
    "        print 'Extracting mean data from',str(len(uniqueParcels)),'parcels for ',fmriFile_prepro\n",
    "        subjectParcelDir = op.join(DATADIR,subject,'MNINonLinear','Results','parcellations')\n",
    "        if not op.isdir(subjectParcelDir): mkdir(subjectParcelDir)\n",
    "        if not op.isdir(op.join(subjectParcelDir,parcellation)): mkdir(op.join(subjectParcelDir,parcellation))\n",
    "        \n",
    "        for iParcel in range(len(uniqueParcels)):\n",
    "            parcelMaskFile = op.join(PARCELDIR,parcellation,'parcel{:03d}.nii.gz'.format(iParcel))\n",
    "            GMmaskFile = op.join(DATADIR,subject,'MNINonLinear','Results',fmriRun,'GMMask.nii.gz')\n",
    "            # intersect GM & parcel\n",
    "            parcelGMMaskFile = op.join(subjectParcelDir,parcellation,'GMparcel{:03d}.nii'.format(iParcel))\n",
    "            mymaths = fsl.maths.MathsCommand(in_file=parcelMaskFile,\\\n",
    "                out_file=parcelGMMaskFile, args='-mul '+GMmaskFile)\n",
    "            mymaths.run()\n",
    "            tsFile = op.join(tsDir,'parcel{:03d}.txt'.format(iParcel))\n",
    "            if not op.isfile(tsFile):\n",
    "                # simply average the voxels within the mask\n",
    "                meants = fsl.meants(in_file=fmriFile_prepro, out_file=tsFile, mask=parcelMaskFile)\n",
    "                meants.run()\n",
    "                \n",
    "            tsFile = op.join(tsDir,'GMparcel{:03d}.txt'.format(iParcel))    \n",
    "            if not op.isfile(tsFile):\n",
    "                # simply average the voxels within the mask\n",
    "                meants = fsl.meants(in_file=fmriFile_prepro, out_file=tsFile, mask=parcelGMMaskFile)\n",
    "                meants.run()\n",
    "                \n",
    "        # concatenate all ts\n",
    "        print 'Concatenating data'\n",
    "        cmd = 'paste '+op.join(tsDir,'parcel*.txt')+' > ',alltsFile\n",
    "        call(cmd)\n",
    "        cmd = 'paste '+op.join(tsDir,'GMparcel*.txt')+' > ',alltsGMFile\n",
    "        call(cmd)\n",
    "        \n",
    "            \n",
    "        "
   ]
  },
  {
   "cell_type": "code",
   "execution_count": null,
   "metadata": {
    "collapsed": false
   },
   "outputs": [],
   "source": [
    "Finn_loadandpreprocess(fmriFile, parcellation, overwrite)"
   ]
  },
  {
   "cell_type": "markdown",
   "metadata": {},
   "source": [
    "### Get subjects"
   ]
  },
  {
   "cell_type": "code",
   "execution_count": 113,
   "metadata": {
    "collapsed": false
   },
   "outputs": [
    {
     "name": "stdout",
     "output_type": "stream",
     "text": [
      "Selected 125 from the release Q2\n",
      "Number of males is: 40\n",
      "Age range is 22 - 35\n"
     ]
    }
   ],
   "source": [
    "df = pd.read_csv(behavFile)\n",
    "\n",
    "# select subjects according to release\n",
    "if release == 'Q2':\n",
    "    ind = (df['Release'] == 'Q2') \\\n",
    "    | (df['Release'] == 'Q1')\n",
    "elif release == 'S500':\n",
    "    ind = (df['Release'] != 'Q2') & (df['Release'] != 'Q1')\n",
    "else:\n",
    "    sys.exit(\"Invalid release code\")\n",
    "    \n",
    "# select subjects that have completed all fMRI\n",
    "ind = ind & ((df['fMRI_WM_Compl']== True) & (df['fMRI_Mot_Compl']==True) \\\n",
    "        & (df['fMRI_Lang_Compl']==True) & (df['fMRI_Emo_Compl']==True) \\\n",
    "        & (df['RS-fMRI_Count']==4))\n",
    "                \n",
    "df = df[ind]  \n",
    "\n",
    "# check if either of the two subjects recommended for exclusion by HCP are still present\n",
    "df = df[~df['Subject'].isin(['209733','528446'])]\n",
    "df.index = range(df.shape[0])\n",
    "print 'Selected', str(df.shape[0]), 'from the release',release\n",
    "print 'Number of males is:', df[df['Gender']=='M'].shape[0]\n",
    "tmpAgeRanges = sorted(df['Age'].unique())\n",
    "print 'Age range is', tmpAgeRanges[0].split('-')[0], '-', tmpAgeRanges[-1].split('-')[1]\n",
    "\n",
    "# list of all selected subjects\n",
    "subjects = df['Subject']\n",
    "# pull their IQ, Age, Gender\n",
    "age = df['Age']\n",
    "gender = df['Gender']\n",
    "score = df[outScore]"
   ]
  },
  {
   "cell_type": "markdown",
   "metadata": {},
   "source": [
    "### Score distribution"
   ]
  },
  {
   "cell_type": "code",
   "execution_count": 117,
   "metadata": {
    "collapsed": false
   },
   "outputs": [
    {
     "data": {
      "text/plain": [
       "array([ 3,  7, 10, 10, 15, 17, 19, 27, 17])"
      ]
     },
     "execution_count": 117,
     "metadata": {},
     "output_type": "execute_result"
    },
    {
     "data": {
      "image/png": "[encoded data removed]",
      "text/plain": [
       "<matplotlib.figure.Figure at 0x7fc952069150>"
      ]
     },
     "metadata": {},
     "output_type": "display_data"
    }
   ],
   "source": [
    "plot_hist(score, 'Distribution of IQ in Finn et al Nat. Neuro 2015 sample', \\\n",
    "          'Score of Raven\\'s progressive matrices, 24 items')"
   ]
  },
  {
   "cell_type": "markdown",
   "metadata": {},
   "source": [
    "### Exclusion of high-motion subjects\n",
    "Further exclude subjects with >0.14 frame-to-frame head motion estimate averged across both rest runs (arbitrary threshold as in Finn et al 2015)"
   ]
  },
  {
   "cell_type": "code",
   "execution_count": null,
   "metadata": {
    "collapsed": false,
    "scrolled": true
   },
   "outputs": [],
   "source": [
    "ResultsDir = op.join(DATADIR, 'Results')\n",
    "if not op.isdir(ResultsDir): mkdir(ResultsDir)\n",
    "ResultsDir = op.join(ResultsDir, 'Finn')\n",
    "if not op.isdir(ResultsDir): mkdir(ResultsDir)\n",
    "ResultsDir = op.join(ResultsDir, parcellation)\n",
    "if not op.isdir(ResultsDir): mkdir(ResultsDir)\n",
    "\n",
    "PEdirs = ['LR', 'RL']\n",
    "RelRMSMean = np.zeros([len(subjects), 2])\n",
    "excludeSub = list()\n",
    "\n",
    "for iSub in range(len(subjects)):\n",
    "    RelRMSMeanFile = op.join(DATADIR, str(subjects[iSub]), 'MNINonLinear','Results', \\\n",
    "                                 thisRun+'_zz', 'Movement_RelativeRMS_mean.txt')\n",
    "    fLR = RelRMSMeanFile.replace('zz','LR');\n",
    "    fRL = RelRMSMeanFile.replace('zz','RL');\n",
    "    \n",
    "    if op.isfile(fLR) & op.isfile(fRL):\n",
    "        with open(fLR,'r') as tmp:\n",
    "            RelRMSMean[iSub,0] = float(tmp.read())\n",
    "        with open(fRL,'r') as tmp:\n",
    "            RelRMSMean[iSub,1] = float(tmp.read())\n",
    "        print '{} {:.3f} {:.3f}'.format(subjects[iSub], RelRMSMean[iSub,0], RelRMSMean[iSub,1])\n",
    "        if np.mean(RelRMSMean[iSub,:]) > 0.141:\n",
    "            print subjects[iSub], ': too much motion, exclude'\n",
    "            excludeSub.append(iSub)\n",
    "            continue\n",
    "     \n",
    "    for iPEdir in range(len(PEdirs)):\n",
    "        PEdir=PEdirs[iPEdir]\n",
    "        fmriFile = op.join(DATADIR, str(subjects[iSub]), 'MNINonLinear', 'Results', \\\n",
    "                           thisRun+'_'+PEdir, thisRun+'_'+PEdir+suffix+'.nii.gz')\n",
    "        if not op.isfile(fmriFile):\n",
    "            print str(subjects[iSub]), 'missing', fmriFile, ', exclude'\n",
    "            excludeSub.append(iSub)\n",
    "            continue\n",
    "        \n",
    "        if not (op.isfile(op.join(ResultsDir, str(subjects[iSub])+'_'+thisRun+'_'+PEdir+'.txt'))) \\\n",
    "        or not (op.isfile(op.join(ResultsDir, str(subjects[iSub])+'_'+thisRun+'_'+PEdir+'._GMtxt'))) \\\n",
    "        or overwrite:\n",
    "            print 'load and preprocess'\n",
    "            Finn_loadandpreprocess(fmriFile, parcellation, overwrite)\n",
    "        else:\n",
    "            print subject[iSub], ' : ', PEdir, 'results already computed; skipping'\n",
    "\n",
    "indkeep = np.setdiff1d(range(len(subjects)),excludeSub, assume_unique=True)"
   ]
  },
  {
   "cell_type": "code",
   "execution_count": 214,
   "metadata": {
    "collapsed": false
   },
   "outputs": [
    {
     "data": {
      "image/png": "[encoded data removed]",
      "text/plain": [
       "<matplotlib.figure.Figure at 0x7fc95205a210>"
      ]
     },
     "metadata": {},
     "output_type": "display_data"
    },
    {
     "name": "stdout",
     "output_type": "stream",
     "text": [
      "With all subjects: corr(IQ,motion) = -0.154 (p = 0.087)\n",
      "After discarding high movers: corr(IQ,motion) = -0.056 (p = 0.552)\n"
     ]
    }
   ],
   "source": [
    "plt.scatter(score[indkeep],np.mean(RelRMSMean[indkeep,:],axis=1),c='b')\n",
    "plt.scatter(score[excludeSub],np.mean(RelRMSMean[excludeSub,:],axis=1),c='r')\n",
    "# fit a curve to the data using a least squares 1st order polynomial fit\n",
    "z1 = np.polyfit(score[indkeep],np.mean(RelRMSMean[indkeep,:],axis=1),1)\n",
    "z2 = np.polyfit(score,np.mean(RelRMSMean,axis=1),1)\n",
    "p1 = np.poly1d(z1)\n",
    "p2 = np.poly1d(z2)                \n",
    "fit1 = p1(score[indkeep])\n",
    "fit2 = p2(score)\n",
    "# get the coordinates for the fit curve\n",
    "c1_x = [np.min(score[indkeep]),np.max(score[indkeep])]\n",
    "c1_y = p1(c1_x)\n",
    "c2_x = [np.min(score),np.max(score)]\n",
    "c2_y = p2(c2_x)\n",
    "# plot line of best fit\n",
    "plt.plot(c2_x,c2_y,'r-',label='before exclusion')\n",
    "plt.plot(c1_x,c1_y,'b-',label='after exclusion')\n",
    "plt.legend(loc=0)\n",
    "plt.show()\n",
    "rho1,p1 = stats.pearsonr(score[indkeep],np.mean(RelRMSMean[indkeep,:],axis=1))\n",
    "rho2,p2 = stats.pearsonr(score,np.mean(RelRMSMean,axis=1))                         \n",
    "print 'With all subjects: corr(IQ,motion) = {:.3f} (p = {:.3f})'.format(rho2,p2)\n",
    "print 'After discarding high movers: corr(IQ,motion) = {:.3f} (p = {:.3f})'.format(rho1,p1)"
   ]
  }
 ],
 "metadata": {
  "anaconda-cloud": {},
  "kernelspec": {
   "display_name": "Python [conda root]",
   "language": "python",
   "name": "conda-root-py"
  },
  "language_info": {
   "codemirror_mode": {
    "name": "ipython",
    "version": 2
   },
   "file_extension": ".py",
   "mimetype": "text/x-python",
   "name": "python",
   "nbconvert_exporter": "python",
   "pygments_lexer": "ipython2",
   "version": "2.7.12"
  }
 },
 "nbformat": 4,
 "nbformat_minor": 1
}
