{
 "cells": [
  {
   "cell_type": "markdown",
   "metadata": {},
   "source": [
    "### Required libraries"
   ]
  },
  {
   "cell_type": "code",
   "execution_count": 128,
   "metadata": {
    "collapsed": false
   },
   "outputs": [],
   "source": [
    "%matplotlib inline\n",
    "import matplotlib.pyplot as plt\n",
    "import csv\n",
    "import pandas as pd\n",
    "import sys\n",
    "import numpy as np\n",
    "import os.path as op\n"
   ]
  },
  {
   "cell_type": "markdown",
   "metadata": {},
   "source": [
    "### Utils"
   ]
  },
  {
   "cell_type": "code",
   "execution_count": 115,
   "metadata": {
    "collapsed": true
   },
   "outputs": [],
   "source": [
    "def plot_hist(score,title,xlabel):\n",
    "    h,b = np.histogram(score, bins='auto')\n",
    "    plt.hist(score,bins=b)\n",
    "    plt.title(title)\n",
    "    plt.xlabel(xlabel)\n",
    "    plt.ylabel('Frequency')\n",
    "    return h"
   ]
  },
  {
   "cell_type": "markdown",
   "metadata": {},
   "source": [
    "### Parameters"
   ]
  },
  {
   "cell_type": "code",
   "execution_count": 120,
   "metadata": {
    "collapsed": true
   },
   "outputs": [],
   "source": [
    "behavFile = 'unrestricted_luckydjuju_11_17_2015_0_47_11.csv'\n",
    "release = 'Q2'\n",
    "outScore = 'PMAT24_A_CR'\n",
    "DATADIR = '/mnt/HCP/'\n",
    "parcellation = 'shenatal_neuroimage2013'\n",
    "thisRun = 'rfMRI_REST1'\n",
    "\n",
    "if thisRun == 'rfMRI_REST1':\n",
    "    outMat = 'rest_1_mat'\n",
    "elif thisRun == 'rfMRI_REST2':\n",
    "    outMat = 'rest_1_mat'\n",
    "else:\n",
    "    sys.exit(\"Invalid run code\")    "
   ]
  },
  {
   "cell_type": "markdown",
   "metadata": {},
   "source": [
    "### Get subjects"
   ]
  },
  {
   "cell_type": "code",
   "execution_count": 113,
   "metadata": {
    "collapsed": false
   },
   "outputs": [
    {
     "name": "stdout",
     "output_type": "stream",
     "text": [
      "Selected 125 from the release Q2\n",
      "Number of males is: 40\n",
      "Age range is 22 - 35\n"
     ]
    }
   ],
   "source": [
    "df = pd.read_csv(behavFile)\n",
    "\n",
    "# select subjects according to release\n",
    "if release == 'Q2':\n",
    "    ind = (df['Release'] == 'Q2') \\\n",
    "    | (df['Release'] == 'Q1')\n",
    "elif release == 'S500':\n",
    "    ind = (df['Release'] != 'Q2') & (df['Release'] != 'Q1')\n",
    "else:\n",
    "    sys.exit(\"Invalid release code\")\n",
    "    \n",
    "# select subjects that have completed all fMRI\n",
    "ind = ind & ((df['fMRI_WM_Compl']== True) & (df['fMRI_Mot_Compl']==True) \\\n",
    "        & (df['fMRI_Lang_Compl']==True) & (df['fMRI_Emo_Compl']==True) \\\n",
    "        & (df['RS-fMRI_Count']==4))\n",
    "                \n",
    "df = df[ind]  \n",
    "\n",
    "# check if either of the two subjects recommended for exclusion by HCP are still present\n",
    "df = df[~df['Subject'].isin(['209733','528446'])]\n",
    "df.index = range(df.shape[0])\n",
    "print 'Selected', str(df.shape[0]), 'from the release',release\n",
    "print 'Number of males is:', df[df['Gender']=='M'].shape[0]\n",
    "tmpAgeRanges = sorted(df['Age'].unique())\n",
    "print 'Age range is', tmpAgeRanges[0].split('-')[0], '-', tmpAgeRanges[-1].split('-')[1]\n",
    "\n",
    "# list of all selected subjects\n",
    "subjects = df['Subject']\n",
    "# pull their IQ, Age, Gender\n",
    "age = df['Age']\n",
    "gender = df['Gender']\n",
    "score = df[outScore]"
   ]
  },
  {
   "cell_type": "markdown",
   "metadata": {},
   "source": [
    "### Score distribution"
   ]
  },
  {
   "cell_type": "code",
   "execution_count": 117,
   "metadata": {
    "collapsed": false
   },
   "outputs": [
    {
     "data": {
      "text/plain": [
       "array([ 3,  7, 10, 10, 15, 17, 19, 27, 17])"
      ]
     },
     "execution_count": 117,
     "metadata": {},
     "output_type": "execute_result"
    },
    {
     "data": {
      "image/png": "[encoded data removed]",
      "text/plain": [
       "<matplotlib.figure.Figure at 0x7fc952069150>"
      ]
     },
     "metadata": {},
     "output_type": "display_data"
    }
   ],
   "source": [
    "plot_hist(score, 'Distribution of IQ in Finn et al Nat. Neuro 2015 sample', \\\n",
    "          'Score of Raven\\'s progressive matrices, 24 items')"
   ]
  },
  {
   "cell_type": "markdown",
   "metadata": {},
   "source": [
    "### Exclusion of high-motion subjects\n",
    "Further exclude subjects with >0.14 frame-to-frame head motion estimate averged across both rest runs (arbitrary threshold as in Finn et al 2015)"
   ]
  },
  {
   "cell_type": "code",
   "execution_count": 134,
   "metadata": {
    "collapsed": false
   },
   "outputs": [
    {
     "name": "stdout",
     "output_type": "stream",
     "text": [
      "100307 0.062 0.076\n",
      "103414 0.069 0.080\n",
      "103515 0.118 0.113\n",
      "103818 0.104 0.092\n",
      "105115 0.065 0.065\n",
      "110411 0.069 0.057\n",
      "111312 0.085 0.076\n",
      "113619 0.076 0.066\n",
      "114924 0.184 0.112\n",
      "115320 0.103 0.107\n",
      "117122 0.102 0.084\n",
      "118730 0.088 0.091\n",
      "118932 0.088 0.088\n",
      "119833 0.122 0.109\n",
      "120212 0.100 0.104\n",
      "123117 0.163 0.156\n",
      "124422 0.064 0.064\n",
      "125525 0.084 0.116\n",
      "128632 0.063 0.064\n",
      "129028 0.075 0.080\n",
      "130013 0.073 0.068\n",
      "133827 0.109 0.132\n",
      "133928 0.070 0.070\n",
      "134324 0.083 0.065\n",
      "135932 0.060 0.066\n",
      "136833 0.099 0.091\n",
      "137128 0.084 0.080\n",
      "138231 0.093 0.077\n",
      "139637 0.068 0.068\n",
      "142828 0.085 0.083\n",
      "143325 0.115 0.107\n",
      "149337 0.046 0.056\n",
      "149539 0.088 0.087\n",
      "150423 0.048 0.052\n",
      "151223 0.196 0.132\n",
      "151627 0.058 0.068\n",
      "153429 0.082 0.101\n",
      "156637 0.141 0.156\n",
      "157336 0.071 0.079\n",
      "158035 0.063 0.074\n",
      "158540 0.144 0.125\n",
      "159239 0.084 0.076\n",
      "161731 0.109 0.117\n",
      "162329 0.128 0.089\n",
      "163432 0.088 0.074\n",
      "167743 0.107 0.099\n",
      "169343 0.084 0.086\n",
      "172332 0.085 0.098\n",
      "175439 0.148 0.115\n",
      "182739 0.091 0.090\n",
      "185139 0.087 0.081\n",
      "191437 0.189 0.166\n",
      "192439 0.101 0.099\n",
      "192540 0.061 0.063\n",
      "193239 0.078 0.071\n",
      "194140 0.080 0.073\n",
      "196144 0.084 0.079\n",
      "197550 0.072 0.093\n",
      "199150 0.141 0.140\n",
      "199251 0.093 0.089\n",
      "200614 0.100 0.104\n",
      "201111 0.052 0.058\n",
      "205119 0.082 0.076\n",
      "205725 0.077 0.070\n",
      "210617 0.080 0.076\n",
      "212318 0.116 0.111\n",
      "214019 0.096 0.077\n",
      "214221 0.095 0.102\n",
      "214423 0.085 0.108\n",
      "217429 0.064 0.053\n",
      "221319 0.104 0.082\n",
      "249947 0.070 0.074\n",
      "250427 0.160 0.180\n",
      "255639 0.058 0.071\n",
      "293748 0.126 0.116\n",
      "298051 0.140 0.141\n",
      "304020 0.114 0.101\n",
      "307127 0.106 0.104\n",
      "329440 0.087 0.079\n",
      "397760 0.093 0.108\n",
      "414229 0.096 0.083\n",
      "448347 0.056 0.063\n",
      "485757 0.103 0.071\n",
      "499566 0.064 0.076\n",
      "530635 0.079 0.084\n",
      "552544 0.051 0.054\n",
      "559053 0.098 0.089\n",
      "579665 0.119 0.083\n",
      "581349 0.078 0.097\n",
      "585862 0.095 0.084\n",
      "598568 0.081 0.074\n",
      "627549 0.075 0.071\n",
      "638049 0.077 0.071\n",
      "645551 0.070 0.097\n",
      "654754 0.066 0.070\n",
      "665254 0.079 0.094\n",
      "672756 0.110 0.116\n",
      "677968 0.103 0.101\n",
      "702133 0.136 0.103\n",
      "729557 0.070 0.073\n",
      "732243 0.088 0.068\n",
      "734045 0.069 0.085\n",
      "748258 0.085 0.078\n",
      "753251 0.127 0.115\n",
      "788876 0.160 0.156\n",
      "792564 0.067 0.064\n",
      "826353 0.078 0.071\n",
      "856766 0.091 0.073\n",
      "857263 0.084 0.082\n",
      "859671 0.122 0.126\n",
      "861456 0.091 0.088\n",
      "865363 0.089 0.075\n",
      "872158 0.124 0.143\n",
      "885975 0.092 0.072\n",
      "887373 0.054 0.046\n",
      "889579 0.121 0.106\n",
      "894673 0.069 0.063\n",
      "896778 0.120 0.104\n",
      "896879 0.055 0.067\n",
      "901139 0.083 0.086\n",
      "917255 0.053 0.051\n",
      "932554 0.054 0.056\n",
      "937160 0.144 0.148\n",
      "984472 0.079 0.131\n",
      "992774 0.059 0.056\n"
     ]
    }
   ],
   "source": [
    "PEdirs = ['LR', 'RL']\n",
    "RelRMSMean = np.zeros([len(subjects), 2])\n",
    "for iSub in range(len(subjects)):\n",
    "    RelRMSMeanFile = op.join(DATADIR, str(subjects[iSub]), 'MNINonLinear','Results', \\\n",
    "                                 thisRun+'_zz', 'Movement_RelativeRMS_mean.txt')\n",
    "    fLR = RelRMSMeanFile.replace('zz','LR');\n",
    "    fRL = RelRMSMeanFile.replace('zz','RL');\n",
    "    if op.isfile(fLR) & op.isfile(fRL):\n",
    "        with open(fLR,'r') as tmp:\n",
    "            RelRMSMean[iSub,0] = float(tmp.read())\n",
    "        with open(fRL,'r') as tmp:\n",
    "            RelRMSMean[iSub,1] = float(tmp.read())\n",
    "        print '{} {:.3f} {:.3f}'.format(subjects[iSub], RelRMSMean[iSub,0], RelRMSMean[iSub,1])    "
   ]
  }
 ],
 "metadata": {
  "anaconda-cloud": {},
  "kernelspec": {
   "display_name": "Python [conda root]",
   "language": "python",
   "name": "conda-root-py"
  },
  "language_info": {
   "codemirror_mode": {
    "name": "ipython",
    "version": 2
   },
   "file_extension": ".py",
   "mimetype": "text/x-python",
   "name": "python",
   "nbconvert_exporter": "python",
   "pygments_lexer": "ipython2",
   "version": "2.7.12"
  }
 },
 "nbformat": 4,
 "nbformat_minor": 1
}
