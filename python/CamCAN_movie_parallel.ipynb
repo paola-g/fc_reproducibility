{
 "cells": [
  {
   "cell_type": "markdown",
   "metadata": {},
   "source": [
    "# Load libraries & helper functions"
   ]
  },
  {
   "cell_type": "code",
   "execution_count": 1,
   "metadata": {
    "collapsed": false
   },
   "outputs": [],
   "source": [
    "%matplotlib inline\n",
    "from helpers import *\n",
    "# Turn interactive plotting off\n",
    "plt.ioff()"
   ]
  },
  {
   "cell_type": "markdown",
   "metadata": {},
   "source": [
    "# Declare parameters"
   ]
  },
  {
   "cell_type": "code",
   "execution_count": null,
   "metadata": {
    "collapsed": false
   },
   "outputs": [
    {
     "name": "stdout",
     "output_type": "stream",
     "text": [
      "Found 652 subjects\n"
     ]
    }
   ],
   "source": [
    "config.DATADIR      = '/scratch/duboisjx/data/CamCAN/MRI'\n",
    "config.fmriRun      = 'Movie'\n",
    "# use volume or surface data\n",
    "config.isCifti      = False\n",
    "# use ICA-FIX input\n",
    "config.isDataClean  = False\n",
    "\n",
    "config.overwrite    = False\n",
    "\n",
    "config.pipelineName = 'Finn'\n",
    "config.preWhitening = False\n",
    "config.Operations= [\n",
    "    ['VoxelNormalization',      1, ['zscore']],\n",
    "    ['Detrending',              2, ['legendre', 3, 'WMCSF']],\n",
    "    ['TissueRegression',        3, ['WMCSF', 'GM']],\n",
    "    ['MotionRegression',        4, ['R dR']],\n",
    "    ['TemporalFiltering',       5, ['Gaussian', 1]],\n",
    "    ['Detrending',              6, ['legendre', 3,'GM']],\n",
    "    ['GlobalSignalRegression',  7, ['GS']],\n",
    "]\n",
    "\n",
    "# submit jobs with sge\n",
    "config.queue        = True\n",
    "# make sure to set memory requirements according to data size\n",
    "# 15G for HCP data!\n",
    "config.maxvmem      = '4G'\n",
    "\n",
    "# parcellation for FC matrix\n",
    "config.parcellationName = 'shen2013'\n",
    "config.parcellationFile = '/scratch/duboisjx/data/parcellations/shenetal_neuroimage2013_new/shen_3mm_268_parcellation.nii.gz'\n",
    "config.nParcels         = 268\n",
    "\n",
    "subjects = [d for d in listdir(config.DATADIR) if d[0:2]==\"CC\"]\n",
    "subjects.sort()\n",
    "print 'Found {} subjects'.format(len(subjects))\n",
    "#print subjects"
   ]
  },
  {
   "cell_type": "markdown",
   "metadata": {},
   "source": [
    "# Do work"
   ]
  },
  {
   "cell_type": "markdown",
   "metadata": {},
   "source": [
    "### preprocess everybody"
   ]
  },
  {
   "cell_type": "code",
   "execution_count": null,
   "metadata": {
    "collapsed": false,
    "scrolled": false
   },
   "outputs": [
    {
     "name": "stdout",
     "output_type": "stream",
     "text": [
      "CC110062 missing\n",
      "CC120376 missing\n",
      "CC120409 missing\n",
      "CC120462 missing\n",
      "CC120470 missing\n",
      "CC120640 missing\n",
      "CC120987 missing\n",
      "CC410129 missing\n",
      "CC410390 missing\n",
      "CC420061 missing\n",
      "CC420091 missing\n",
      "CC420137 missing\n",
      "CC420197 missing\n"
     ]
    }
   ],
   "source": [
    "keep      = np.zeros((len(subjects)),dtype=np.bool_)\n",
    "i=0\n",
    "displayPlot=False\n",
    "for config.subject in subjects:\n",
    "    if not config.queue:\n",
    "        print 'SUB {}/{}: {}'.format(i+1,len(subjects),config.subject)\n",
    "    keep[i] = runPipelinePar()\n",
    "    i = i + 1\n",
    "        \n",
    "print 'Keeping {}/{} subjects'.format(np.sum(keep),len(subjects))\n",
    "\n",
    "if config.queue:\n",
    "    if len(config.joblist) != 0:\n",
    "        while True:\n",
    "            nleft = len(config.joblist)\n",
    "            for i in range(nleft):\n",
    "                myCmd = \"qstat | grep ' {} '\".format(config.joblist[i])\n",
    "                isEmpty = False\n",
    "                try:\n",
    "                    cmdOut = check_output(myCmd, shell=True)\n",
    "                except CalledProcessError as e:\n",
    "                    isEmpty = True\n",
    "                finally:\n",
    "                    if isEmpty:\n",
    "                        nleft = nleft-1\n",
    "            if nleft == 0:\n",
    "                break\n",
    "            else:\n",
    "                print 'Waiting for {} subjects to complete...'.format(nleft)\n",
    "            sleep(10)\n",
    "    print 'All done!!'"
   ]
  },
  {
   "cell_type": "markdown",
   "metadata": {},
   "source": [
    "### look at QC"
   ]
  },
  {
   "cell_type": "code",
   "execution_count": null,
   "metadata": {
    "collapsed": false
   },
   "outputs": [],
   "source": [
    "fdScores  = np.zeros((len(subjects)),dtype=np.float32)\n",
    "fcMats    = np.zeros((config.nParcels,config.nParcels,len(subjects)),dtype=np.float32)\n",
    "fcMats_dn = np.zeros((config.nParcels,config.nParcels,len(subjects)),dtype=np.float32)\n",
    "displayPlot=False\n",
    "i = 0\n",
    "config.queue=False\n",
    "for config.subject in subjects:\n",
    "    if keep[i]:\n",
    "        print 'SUB {}/{}: {}'.format(i+1,len(subjects),config.subject)\n",
    "        runPipelinePar()\n",
    "        fcMats[:,:,i],fcMats_dn[:,:,i] = plotFC(displayPlot)\n",
    "        fdScores[i]=np.mean(computeFD())\n",
    "    i = i + 1\n",
    "\n",
    "fdScores  = fdScores[keep]\n",
    "fcMats    = fcMats[:,:,keep]\n",
    "fcMats_dn = fcMats_dn[:,:,keep]\n",
    "\n",
    "# rsFC/mean FD plot\n",
    "# since this is a correlation across subjects, it makes most sense if we have enough subjects\n",
    "if len(subjects)>20:    \n",
    "    plotQCrsFC(fcMats,fcMats_dn,fdScores)\n",
    "    \n",
    "# deltaR plot\n",
    "plotDeltaR(fcMats,fcMats_dn)"
   ]
  },
  {
   "cell_type": "code",
   "execution_count": null,
   "metadata": {
    "collapsed": true
   },
   "outputs": [],
   "source": []
  }
 ],
 "metadata": {
  "anaconda-cloud": {},
  "kernelspec": {
   "display_name": "Python 2",
   "language": "python",
   "name": "python2"
  },
  "language_info": {
   "codemirror_mode": {
    "name": "ipython",
    "version": 2
   },
   "file_extension": ".py",
   "mimetype": "text/x-python",
   "name": "python",
   "nbconvert_exporter": "python",
   "pygments_lexer": "ipython2",
   "version": "2.7.13"
  }
 },
 "nbformat": 4,
 "nbformat_minor": 1
}
