{
 "cells": [
  {
   "cell_type": "markdown",
   "metadata": {},
   "source": [
    "# Load libraries & helper functions"
   ]
  },
  {
   "cell_type": "code",
   "execution_count": null,
   "metadata": {
    "collapsed": false
   },
   "outputs": [],
   "source": [
    "from helpers import *\n",
    "%matplotlib inline"
   ]
  },
  {
   "cell_type": "markdown",
   "metadata": {},
   "source": [
    "# Declare parameters"
   ]
  },
  {
   "cell_type": "code",
   "execution_count": null,
   "metadata": {
    "collapsed": false
   },
   "outputs": [],
   "source": [
    "#config.DATADIR      = '/scratch/duboisjx/data/CamCAN/MRI'\n",
    "config.DATADIR      = '/home/duboisjx/mnt10/LabUsers/duboisjx/data/HCP/MRI'\n",
    "\n",
    "# fMRI runs\n",
    "fmriRuns      = ['rfMRI_REST1_LR','rfMRI_REST1_RL']\n",
    "\n",
    "# use volume or surface data\n",
    "config.isCifti      = True\n",
    "\n",
    "config.overwrite    = False\n",
    "\n",
    "config.pipelineName = 'Finn'\n",
    "# use ICA-FIX input\n",
    "config.useFIX       = False\n",
    "config.preWhitening = False\n",
    "config.Operations   = config.operationDict[config.pipelineName]\n",
    "\n",
    "# submit jobs with sge\n",
    "config.queue        = False\n",
    "# make sure to set memory requirements according to data size\n",
    "# 15G for HCP data!\n",
    "# config.maxvmem      = '20G'\n",
    "# config.whichQueue   = 'verylong.q'\n",
    "# whether to use memmapping (which involves unzipping)\n",
    "config.useMemMap    = False\n",
    "\n",
    "# parcellation for FC matrix\n",
    "config.parcellationName = 'GlasserAsegSuit'\n",
    "config.parcellationFile = '/home/duboisjx/mnt10/LabUsers/duboisjx/data/parcellations/Glasser_Aseg_Suit/Parcels.dlabel.nii'\n",
    "#config.parcellationFile = '/scratch/duboisjx/data/parcellations/shenetal_neuroimage2013_new/shen_3mm_268_parcellation.nii.gz'\n",
    "config.nParcels         = 405\n",
    "\n",
    "# subject selection parameters\n",
    "config.behavFile = '/home/duboisjx/mnt10/LabUsers/duboisjx/data/HCP/neuropsych/unrestricted_luckydjuju_11_17_2015_0_47_11.csv'\n",
    "config.release   = 'Q2'\n",
    "config.outScore  = 'PMAT24_A_CR'"
   ]
  },
  {
   "cell_type": "markdown",
   "metadata": {},
   "source": [
    "# Subject selection"
   ]
  },
  {
   "cell_type": "code",
   "execution_count": null,
   "metadata": {
    "collapsed": false
   },
   "outputs": [],
   "source": [
    "df = pd.read_csv(config.behavFile)\n",
    "# select subjects according to release\n",
    "if config.release == 'Q2':\n",
    "    ind = (df['Release'] == 'Q2') | (df['Release'] == 'Q1')\n",
    "elif config.release == 'S500':\n",
    "    ind = (df['Release'] != 'Q2') & (df['Release'] != 'Q1')\n",
    "else:\n",
    "    sys.exit(\"Invalid release code\")\n",
    "# select subjects that have completed all fMRI\n",
    "ind = ind & ((df['fMRI_WM_Compl']== True) & (df['fMRI_Mot_Compl']==True) \n",
    "             & (df['fMRI_Lang_Compl']==True) & (df['fMRI_Emo_Compl']==True)         \n",
    "             & (df['RS-fMRI_Count']==4))\n",
    "df = df[ind]  \n",
    "# check if either of the two subjects recommended for exclusion by HCP are still present\n",
    "df = df[~df['Subject'].isin(['209733','528446'])]\n",
    "df.index = range(df.shape[0])\n",
    "tmpAgeRanges = sorted(df['Age'].unique())\n",
    "# list of all selected subjects\n",
    "subjects = df['Subject']\n",
    "# pull their IQ, Age, Gender\n",
    "age = df['Age']\n",
    "gender = df['Gender']\n",
    "score = df[config.outScore]\n",
    "\n",
    "print 'Selected', str(df.shape[0]), 'from the release',config.release\n",
    "print 'Number of males is:', df[df['Gender']=='M'].shape[0]\n",
    "print 'Age range is', tmpAgeRanges[0].split('-')[0], '-', tmpAgeRanges[-1].split('-')[1]\n",
    "\n",
    "# Exclusion of high-motion subjects\n",
    "# exclude subjects with >0.14 frame-to-frame head motion estimate averged across both rest runs (arbitrary threshold as in Finn et al 2015)\n",
    "subjects   = [str(subject) for subject in subjects]\n",
    "RelRMSMean = np.zeros([len(subjects), len(fmriRuns)],dtype=np.float32)\n",
    "compSub    = np.zeros((len(subjects)),dtype=np.bool_)\n",
    "keepSub    = np.zeros((len(subjects)),dtype=np.bool_)\n",
    "iSub=0\n",
    "for config.subject in subjects:\n",
    "    i=0\n",
    "    for config.fmriRun in fmriRuns:\n",
    "        RelRMSMeanFile = op.join(buildpath(), 'Movement_RelativeRMS_mean.txt')\n",
    "        #print RelRMSMeanFile\n",
    "        if op.isfile(RelRMSMeanFile):\n",
    "            with open(RelRMSMeanFile,'r') as tmp:\n",
    "                RelRMSMean[iSub,i] = float(tmp.read())\n",
    "        else:\n",
    "            print RelRMSMeanFile+' File missing'\n",
    "            break\n",
    "        i=i+1\n",
    "    if i==len(fmriRuns): # all RelRMSMeanFile exist\n",
    "        compSub[iSub]=True\n",
    "        if np.mean(RelRMSMean[iSub,:]) > 0.14:\n",
    "            print config.subject, ': too much motion, exclude'\n",
    "        else:\n",
    "            keepSub[iSub]=True\n",
    "    iSub=iSub+1\n",
    "\n",
    "#### motion vs. score correlation\n",
    "plt.scatter(score[compSub],np.mean(RelRMSMean[compSub,:],axis=1),c='r')\n",
    "plt.scatter(score[keepSub],np.mean(RelRMSMean[keepSub,:],axis=1),c='b')\n",
    "# fit a curve to the data using a least squares 1st order polynomial fit\n",
    "z1 = np.polyfit(score[keepSub],np.mean(RelRMSMean[keepSub,:],axis=1),1)\n",
    "z2 = np.polyfit(score[compSub],np.mean(RelRMSMean[compSub,:],axis=1),1)\n",
    "p1 = np.poly1d(z1)\n",
    "p2 = np.poly1d(z2)                \n",
    "fit1 = p1(score[keepSub])\n",
    "fit2 = p2(score[compSub])\n",
    "# get the coordinates for the fit curve\n",
    "c1_x = [np.min(score[keepSub]),np.max(score[keepSub])]\n",
    "c1_y = p1(c1_x)\n",
    "c2_x = [np.min(score[compSub]),np.max(score[compSub])]\n",
    "c2_y = p2(c2_x)\n",
    "# plot line of best fit\n",
    "plt.plot(c2_x,c2_y,'r-',label='before exclusion')\n",
    "plt.plot(c1_x,c1_y,'b-',label='after exclusion')\n",
    "plt.xlabel('Score [{}]'.format(config.outScore))\n",
    "plt.ylabel('RelRMSMean')\n",
    "plt.legend(loc=0)\n",
    "plt.show()\n",
    "rho1,p1 = stats.pearsonr(score[keepSub],np.mean(RelRMSMean[keepSub,:],axis=1))\n",
    "rho2,p2 = stats.pearsonr(score[compSub],np.mean(RelRMSMean[compSub,:],axis=1))            \n",
    "print 'With all subjects: corr(IQ,motion) = {:.3f} (p = {:.3f})'.format(rho2,p2)\n",
    "print 'After discarding high movers: corr(IQ,motion) = {:.3f} (p = {:.3f})'.format(rho1,p1)\n",
    "    \n",
    "subjects   = [subject for (subject, keep) in zip(subjects, keepSub) if keep]\n",
    "age        = age[keepSub]\n",
    "gender     = gender[keepSub]\n",
    "score      = score[keepSub]\n",
    "RelRMSMean = RelRMSMean[keepSub,:]\n",
    "print 'Keeping {} subjects [{} M]'.format(len(subjects),sum([g=='M' for g in gender]))"
   ]
  },
  {
   "cell_type": "markdown",
   "metadata": {},
   "source": [
    "# Do work"
   ]
  },
  {
   "cell_type": "markdown",
   "metadata": {},
   "source": [
    "### preprocess everybody"
   ]
  },
  {
   "cell_type": "code",
   "execution_count": null,
   "metadata": {
    "collapsed": false,
    "scrolled": false
   },
   "outputs": [],
   "source": [
    "keepSub = np.zeros((len(subjects)),dtype=np.bool_)\n",
    "iSub=0\n",
    "for config.subject in subjects:\n",
    "    iRun = 0\n",
    "    for config.fmriRun in fmriRuns:\n",
    "        if not config.queue:\n",
    "            print 'SUB {}/{} [{}]: run {}/{} [{}]'.format(iSub+1,len(subjects),config.subject,iRun+1,len(fmriRuns),config.fmriRun)\n",
    "        keepSub[iSub] = runPipelinePar(launchSubproc=True)\n",
    "        if not keepSub[iSub]:\n",
    "            break\n",
    "        iRun+=1\n",
    "    iSub+=1\n",
    "print 'Keeping {}/{} subjects'.format(np.sum(keepSub),len(subjects))\n",
    "\n",
    "if config.queue:\n",
    "    if len(config.joblist) != 0:\n",
    "        while True:\n",
    "            nleft = len(config.joblist)\n",
    "            for i in range(nleft):\n",
    "                myCmd = \"qstat | grep ' {} '\".format(config.joblist[i])\n",
    "                isEmpty = False\n",
    "                try:\n",
    "                    cmdOut = check_output(myCmd, shell=True)\n",
    "                except CalledProcessError as e:\n",
    "                    isEmpty = True\n",
    "                finally:\n",
    "                    if isEmpty:\n",
    "                        nleft = nleft-1\n",
    "            if nleft == 0:\n",
    "                break\n",
    "            else:\n",
    "                print 'Waiting for {} subjects to complete...'.format(nleft)\n",
    "            sleep(10)\n",
    "    print 'All done!!'"
   ]
  },
  {
   "cell_type": "markdown",
   "metadata": {},
   "source": [
    "### look at QC"
   ]
  },
  {
   "cell_type": "code",
   "execution_count": null,
   "metadata": {
    "collapsed": false,
    "scrolled": false
   },
   "outputs": [],
   "source": [
    "fdScores     = np.zeros((len(subjects),len(fmriRuns)),dtype=np.float32)\n",
    "fcMats       = np.zeros((config.nParcels,config.nParcels,len(subjects),len(fmriRuns)),dtype=np.float32)\n",
    "fcMats_dn    = np.zeros((config.nParcels,config.nParcels,len(subjects),len(fmriRuns)),dtype=np.float32)\n",
    "displayPlot  =False\n",
    "config.queue =False\n",
    "iSub= 0\n",
    "for config.subject in subjects:\n",
    "    if keepSub[iSub]:\n",
    "        print 'SUB {}/{}: {}'.format(i+1,len(subjects),config.subject)\n",
    "        iRun = 0\n",
    "        for config.fmriRun in fmriRuns:\n",
    "            runPipelinePar()\n",
    "            fcMats[:,:,iSub,iRun],fcMats_dn[:,:,iSub,iRun] = plotFC(displayPlot)\n",
    "            fdScores[iSub,iRun]=np.mean(computeFD())\n",
    "            iRun = iRun+1\n",
    "    iSub = iSub + 1\n",
    "\n",
    "fdScores  = np.squeeze(np.mean(fdScores[keepSub,:],1))\n",
    "fcMats    = np.squeeze(np.tanh(np.mean(np.arctanh(fcMats[:,:,keepSub,:]),3)))\n",
    "fcMats_dn = np.squeeze(np.tanh(np.mean(np.arctanh(fcMats_dn[:,:,keepSub,:]),3)))\n",
    "\n",
    "scores    = scores[keepSub]\n",
    "\n",
    "# rsFC/mean FD plot\n",
    "# since this is a correlation across subjects, it makes most sense if we have enough subjects\n",
    "if len(subjects)>20:    \n",
    "    plotQCrsFC(fcMats,fcMats_dn,fdScores)\n",
    "    \n",
    "# deltaR plot\n",
    "plotDeltaR(fcMats,fcMats_dn)"
   ]
  },
  {
   "cell_type": "markdown",
   "metadata": {
    "collapsed": true
   },
   "source": [
    "# IQ prediction"
   ]
  },
  {
   "cell_type": "code",
   "execution_count": null,
   "metadata": {
    "collapsed": false
   },
   "outputs": [],
   "source": [
    "# threshold for feature selection\n",
    "thresh = 0.01\n",
    "\n",
    "n_subs  = np.sum(keepSub)\n",
    "n_nodes = config.nParcels\n",
    "\n",
    "behav_pred_pos = np.zeros([n_subs,1])\n",
    "behav_pred_neg = np.zeros([n_subs,1])\n",
    "\n",
    "triu_idx = np.triu_indices(n_nodes,1)\n",
    "n_edges = len(triu_idx[1]);\n",
    "edges = np.zeros([n_subs,n_edges])\n",
    "for iSub in range(n_subs):\n",
    "    edges[iSub,] = fcMats_dn[:,:,iSub][triu_idx]\n",
    "\n",
    "loo = cross_validation.LeaveOneOut(n_subs)\n",
    "lr = linear_model.LinearRegression()\n",
    "errors_pos = np.zeros([n_subs,1])\n",
    "errors_neg = np.zeros([n_subs,1])\n",
    "predictions_pos = np.zeros([n_subs,1])\n",
    "predictions_neg = np.zeros([n_subs,1])\n",
    "\n",
    "p=0.01\n",
    "i=0\n",
    "for train_index, test_index in loo:\n",
    "    pears = [stats.pearsonr(np.squeeze(edges[train_index,j]),scores[train_index]) for j in range(0,n_edges)]\n",
    "    # select edges (positively and negatively) correlated with gF with threshold p\n",
    "    idx_filtered_pos = np.array([idx for idx in range(1,n_edges) if pears[idx][1]<p and pears[idx][0]>0])\n",
    "    idx_filtered_neg = np.array([idx for idx in range(1,n_edges) if pears[idx][1]<p and pears[idx][0]<0])\n",
    "    filtered_pos = edges[np.ix_(train_index,idx_filtered_pos)]\n",
    "    filtered_neg = edges[np.ix_(train_index,idx_filtered_neg)]\n",
    "    # compute network statistic for each subject in training\n",
    "    strength_pos = filtered_pos.sum(axis=1) \n",
    "    strength_neg = filtered_neg.sum(axis=1)\n",
    "    # compute network statistic for test subject\n",
    "    str_pos_test = edges[test_index,idx_filtered_pos].sum()\n",
    "    str_neg_test = edges[test_index,idx_filtered_neg].sum()\n",
    "    # regression\n",
    "    lr_pos = lr.fit(strength_pos.reshape(-1,1),gF[train_index])\n",
    "    predictions_pos[i] = lr_pos.predict(str_pos_test)\n",
    "    lr_neg = lr.fit(strength_neg.reshape(-1,1),gF[train_index])\n",
    "    predictions_neg[i] = lr_neg.predict(str_neg_test) \n",
    "    errors_pos[i] = abs(predictions_pos[i]-gF[test_index])\n",
    "    errors_neg[i] = abs(predictions_neg[i]-gF[test_index])\n",
    "    i=i+1\n",
    "\n",
    "# plot\n",
    "x = np.ravel(score)\n",
    "fig = plt.figure(figsize=(10,20))\n",
    "ax1 = plt.subplot(121)\n",
    "y = np.ravel(predictions_pos)\n",
    "plot_corrs(x,y)\n",
    "ax2 = plt.subplot(122)\n",
    "y = np.ravel(predictions_neg)\n",
    "plot_corrs(x,y)\n"
   ]
  },
  {
   "cell_type": "code",
   "execution_count": null,
   "metadata": {
    "collapsed": false
   },
   "outputs": [],
   "source": [
    "np.arange(0,100,dtype=np.int)"
   ]
  }
 ],
 "metadata": {
  "anaconda-cloud": {},
  "kernelspec": {
   "display_name": "Python [default]",
   "language": "python",
   "name": "python2"
  },
  "language_info": {
   "codemirror_mode": {
    "name": "ipython",
    "version": 2
   },
   "file_extension": ".py",
   "mimetype": "text/x-python",
   "name": "python",
   "nbconvert_exporter": "python",
   "pygments_lexer": "ipython2",
   "version": "2.7.12"
  }
 },
 "nbformat": 4,
 "nbformat_minor": 1
}
