{
 "cells": [
  {
   "cell_type": "markdown",
   "metadata": {},
   "source": [
    "### Required libraries"
   ]
  },
  {
   "cell_type": "code",
   "execution_count": 3,
   "metadata": {
    "collapsed": false
   },
   "outputs": [],
   "source": [
    "%matplotlib inline\n",
    "import matplotlib.pyplot as plt\n",
    "import csv\n",
    "import pandas as pd\n",
    "import sys\n",
    "import numpy as np\n",
    "import os.path as op\n",
    "from os import mkdir, makedirs\n",
    "import scipy.stats as stats\n",
    "import nipype.interfaces.fsl as fsl\n",
    "from subprocess import call\n",
    "import nibabel as nib\n",
    "from shutil import copyfile\n",
    "import pandas as pd\n",
    "import scipy.io as sio\n",
    "from sklearn import cross_validation\n",
    "from sklearn import linear_model\n",
    "from __future__ import division"
   ]
  },
  {
   "cell_type": "markdown",
   "metadata": {},
   "source": [
    "### Utils"
   ]
  },
  {
   "cell_type": "code",
   "execution_count": 37,
   "metadata": {
    "collapsed": true
   },
   "outputs": [],
   "source": [
    "def plot_hist(score,title,xlabel):\n",
    "    h,b = np.histogram(score, bins='auto')\n",
    "    plt.hist(score,bins=b)\n",
    "    plt.title(title)\n",
    "    plt.xlabel(xlabel)\n",
    "    plt.ylabel('Frequency')\n",
    "    return h"
   ]
  },
  {
   "cell_type": "markdown",
   "metadata": {},
   "source": [
    "### Parameters"
   ]
  },
  {
   "cell_type": "code",
   "execution_count": 38,
   "metadata": {
    "collapsed": false
   },
   "outputs": [],
   "source": [
    "behavFile = 'unrestricted_luckydjuju_11_17_2015_0_47_11.csv'\n",
    "release = 'Q2'\n",
    "outScore = 'PMAT24_A_CR'\n",
    "DATADIR = '/media/paola/HCP/'\n",
    "PARCELDIR = '/home/paola/parcellations'\n",
    "parcellation = 'shenetal_neuroimage2013'\n",
    "overwrite = False\n",
    "thisRun = 'rfMRI_REST1'\n",
    "isDataClean = True\n",
    "doPlot = True\n",
    "useLegendre = True\n",
    "useCluster = True\n",
    "\n",
    "if thisRun == 'rfMRI_REST1':\n",
    "    outMat = 'rest_1_mat'\n",
    "elif thisRun == 'rfMRI_REST2':\n",
    "    outMat = 'rest_1_mat'\n",
    "else:\n",
    "    sys.exit(\"Invalid run code\")  \n",
    "    \n",
    "suffix = '_hp2000_clean' if isDataClean else ''   \n",
    "\n",
    "def buildpath(subject,fmriRun):\n",
    "    return op.join(DATADIR, subject,'MNINonLinear','Results',fmriRun)\n",
    "\n",
    "def testpath(subject,fmriRun):\n",
    "    return op.join(DATADIR, 'Testing', subject,'Results',fmriRun)"
   ]
  },
  {
   "cell_type": "markdown",
   "metadata": {},
   "source": [
    "### Functions"
   ]
  },
  {
   "cell_type": "code",
   "execution_count": 39,
   "metadata": {
    "collapsed": false
   },
   "outputs": [],
   "source": [
    "def makeTissueMasks(subject,fmriRun,overwrite):\n",
    "    fmriFile = op.join(buildpath(subject,fmriRun), fmriRun+suffix+'.nii.gz')\n",
    "    WMmaskFileout = op.join(buildpath(subject,fmriRun), 'WMmask.nii.gz')\n",
    "    CSFmaskFileout = op.join(buildpath(subject,fmriRun), 'CSFmask.nii.gz')\n",
    "    GMmaskFileout = op.join(buildpath(subject,fmriRun), 'GMmask.nii.gz')\n",
    "    WMCSFmaskFileout = op.join(buildpath(subject,fmriRun), 'WMCSFmask.nii.gz')\n",
    "    WMCSFGMmaskFileout = op.join(buildpath(subject,fmriRun), 'WMCSFGMmask.nii.gz')\n",
    "    \n",
    "    if not op.isfile(WMCSFGMmaskFileout) or overwrite:\n",
    "        # load ribbon.nii.gz and wmparc.nii.gz\n",
    "        ribbonFilein = op.join(DATADIR, subject, 'MNINonLinear','ribbon.nii.gz')\n",
    "        wmparcFilein = op.join(DATADIR, subject, 'MNINonLinear', 'wmparc.nii.gz')\n",
    "        # make sure it is resampled to the same space as the functional run\n",
    "        ribbonFileout = op.join(buildpath(subject,fmriRun), 'ribbon.nii.gz')\n",
    "        wmparcFileout = op.join(buildpath(subject,fmriRun), 'wmparc.nii.gz')\n",
    "        # make identity matrix to feed to flirt for resampling\n",
    "        with open('eye.mat','w') as fid:\n",
    "            fid.write('1 0 0 0\\n0 1 0 0\\n0 0 1 0\\n0 0 0 1')\n",
    "        \n",
    "        flirt_ribbon = fsl.FLIRT(in_file=ribbonFilein, out_file=ribbonFileout,\\\n",
    "            reference=fmriFile, apply_xfm=True,\\\n",
    "            in_matrix_file='eye.mat', interp='nearestneighbour')\n",
    "        flirt_ribbon.run()\n",
    "\n",
    "        flirt_wmparc = fsl.FLIRT(in_file=wmparcFilein, out_file=wmparcFileout,\\\n",
    "            reference=fmriFile, apply_xfm=True,\\\n",
    "            in_matrix_file='eye.mat', interp='nearestneighbour')\n",
    "        flirt_wmparc.run()\n",
    "        \n",
    "        # load nii (ribbon & wmparc)\n",
    "        ribbon = nib.load(ribbonFileout).get_data()\n",
    "        wmparc = nib.load(wmparcFileout).get_data()\n",
    "        \n",
    "        # white & CSF matter mask\n",
    "        # indices are from FreeSurferColorLUT.txt\n",
    "        \n",
    "        # Left-Cerebral-White-Matter, Right-Cerebral-White-Matter\n",
    "        ribbonWMstructures = [2, 41]\n",
    "        # Left-Cerebral-Cortex, Right-Cerebral-Cortex\n",
    "        ribbonGMstrucures = [3, 42]\n",
    "        # Cerebellar-White-Matter-Left, Brain-Stem, Cerebellar-White-Matter-Right\n",
    "        wmparcWMstructures = [7, 16, 46]\n",
    "        # Left-Cerebellar-Cortex, Right-Cerebellar-Cortex, Thalamus-Left, Caudate-Left\n",
    "        # Putamen-Left, Pallidum-Left, Hippocampus-Left, Amygdala-Left, Accumbens-Left \n",
    "        # Diencephalon-Ventral-Left, Thalamus-Right, Caudate-Right, Putamen-Right\n",
    "        # Pallidum-Right, Hippocampus-Right, Amygdala-Right, Accumbens-Right\n",
    "        # Diencephalon-Ventral-Right\n",
    "        wmparcGMstructures = [8, 47, 10, 11, 12, 13, 17, 18, 26, 28, 49, 50, 51, 52, 53, 54, 58, 60]\n",
    "        # Fornix, CC-Posterior, CC-Mid-Posterior, CC-Central, CC-Mid-Anterior, CC-Anterior\n",
    "        wmparcCCstructures = [250, 251, 252, 253, 254, 255]\n",
    "        # Left-Lateral-Ventricle, Left-Inf-Lat-Vent, 3rd-Ventricle, 4th-Ventricle, CSF\n",
    "        # Left-Choroid-Plexus, Right-Lateral-Ventricle, Right-Inf-Lat-Vent, Right-Choroid-Plexus\n",
    "        wmparcCSFstructures = [4, 5, 14, 15, 24, 31, 43, 44, 63]\n",
    "        \n",
    "        # make masks\n",
    "        WMmask = np.double(np.logical_and(np.logical_and(np.logical_or(np.logical_or(np.in1d(ribbon, ribbonWMstructures),\n",
    "                                                                              np.in1d(wmparc, wmparcWMstructures)),\n",
    "                                                                np.in1d(wmparc, wmparcCCstructures)),\n",
    "                                                  np.logical_not(np.in1d(wmparc, wmparcCSFstructures))),\n",
    "                                   np.logical_not(np.in1d(wmparc, wmparcGMstructures))))\n",
    "        CSFmask = np.double(np.in1d(wmparc, wmparcCSFstructures))\n",
    "        WMCSFmask = np.double((WMmask > 0) | (CSFmask > 0))\n",
    "        GMmask = np.double(np.logical_or(np.in1d(ribbon,ribbonGMstrucures),np.in1d(wmparc,wmparcGMstructures)))\n",
    "        WMCSFGMmask = np.double((WMmask > 0) | (CSFmask > 0) | (GMmask > 0))\n",
    "        \n",
    "        # write masks\n",
    "        ref = nib.load(wmparcFileout)\n",
    "        WMmask = np.reshape(WMmask,ref.shape)\n",
    "        img = nib.Nifti1Image(WMmask, ref.affine)\n",
    "        nib.save(img, WMmaskFileout)\n",
    "        \n",
    "        CSFmask = np.reshape(CSFmask,ref.shape)\n",
    "        img = nib.Nifti1Image(CSFmask, ref.affine)\n",
    "        nib.save(img, CSFmaskFileout)\n",
    "        \n",
    "        GMmask = np.reshape(GMmask,ref.shape)\n",
    "        img = nib.Nifti1Image(GMmask, ref.affine)\n",
    "        nib.save(img, GMmaskFileout)\n",
    "        \n",
    "        WMCSFmask = np.reshape(WMCSFmask,ref.shape)\n",
    "        img = nib.Nifti1Image(WMCSFmask, ref.affine)\n",
    "        nib.save(img, WMCSFmaskFileout)\n",
    "        \n",
    "        WMCSFGMmask = np.reshape(WMCSFGMmask,ref.shape)\n",
    "        img = nib.Nifti1Image(WMCSFGMmask, ref.affine)\n",
    "        nib.save(img, WMCSFGMmaskFileout)"
   ]
  },
  {
   "cell_type": "code",
   "execution_count": 139,
   "metadata": {
    "collapsed": false
   },
   "outputs": [
    {
     "name": "stdout",
     "output_type": "stream",
     "text": [
      "992774\n",
      "rfMRI_REST1_RL\n"
     ]
    }
   ],
   "source": [
    "subject = op.basename(op.dirname(op.dirname(op.dirname(op.dirname(fmriFile)))))\n",
    "print subject\n",
    "fmriRun = op.basename(op.dirname(fmriFile))\n",
    "print fmriRun\n",
    "makeTissueMasks(subject,fmriRun,True)"
   ]
  },
  {
   "cell_type": "code",
   "execution_count": null,
   "metadata": {
    "collapsed": false
   },
   "outputs": [],
   "source": [
    "fmriFile"
   ]
  },
  {
   "cell_type": "code",
   "execution_count": null,
   "metadata": {
    "collapsed": false
   },
   "outputs": [],
   "source": [
    "img = nib.load(fmriFile)\n",
    "hdr = img.header.structarr\n",
    "nTRs = long(hdr['dim'][4])\n",
    "# retrieve TR\n",
    "TR = hdr['pixdim'][4]\n",
    "# retrieve dimensions\n",
    "dim1 = long(hdr['dim'][1])\n",
    "dim2 = long(hdr['dim'][2])\n",
    "dim3 = long(hdr['dim'][3])"
   ]
  },
  {
   "cell_type": "code",
   "execution_count": 22,
   "metadata": {
    "collapsed": false
   },
   "outputs": [
    {
     "data": {
      "text/plain": [
       "[<matplotlib.lines.Line2D at 0x7fcd6dac9e90>]"
      ]
     },
     "execution_count": 22,
     "metadata": {},
     "output_type": "execute_result"
    },
    {
     "data": {
      "image/png": "[encoded data removed]",
      "text/plain": [
       "<matplotlib.figure.Figure at 0x7fcd6d9b0c90>"
      ]
     },
     "metadata": {},
     "output_type": "display_data"
    }
   ],
   "source": [
    "# ** a) create polynomial regressors **\n",
    "nPoly = 1\n",
    "x = np.arange(1200)\n",
    "num_pol = range(nPoly)\n",
    "y = np.ones((len(num_pol),len(x)))   \n",
    "    \n",
    "from numpy.polynomial.legendre import Legendre\n",
    "leg = Legendre((1,1,1,1))\n",
    "plt.figure()\n",
    "plt.title('Legendre Polynomial 3rd deg')\n",
    "y[0,:] = leg(x)\n",
    "plt.plot(x,y[0])\n"
   ]
  },
  {
   "cell_type": "code",
   "execution_count": 32,
   "metadata": {
    "collapsed": false
   },
   "outputs": [
    {
     "data": {
      "image/png": "[encoded data removed]",
      "text/plain": [
       "<matplotlib.figure.Figure at 0x7fcd6d87c750>"
      ]
     },
     "metadata": {},
     "output_type": "display_data"
    }
   ],
   "source": [
    "nPoly = 3\n",
    "# Create polynomial regressors centered on 0 and bounded by -1 and 1\n",
    "x = np.arange(1200)\n",
    "num_pol = range(nPoly)\n",
    "y = np.ones((len(num_pol),len(x)))\n",
    "\n",
    "\n",
    "for i in num_pol:\n",
    "    y[i,:] = (x - (np.max(x)/2)) **(i+1)\n",
    "    y[i,:] = y[i,:] - np.mean(y[i,:])\n",
    "    y[i,:] = y[i,:]/np.max(y[i,:])    \n",
    "    plt.plot(x,y[i])\n",
    "    \n",
    "    \n",
    "    \n",
    "    \n"
   ]
  },
  {
   "cell_type": "code",
   "execution_count": 278,
   "metadata": {
    "collapsed": false
   },
   "outputs": [
    {
     "data": {
      "text/plain": [
       "'/media/paola/HCP/992774/MNINonLinear/Results/rfMRI_REST1_RL'"
      ]
     },
     "execution_count": 278,
     "metadata": {},
     "output_type": "execute_result"
    }
   ],
   "source": [
    "op.join(buildpath(subject,fmriRun))"
   ]
  },
  {
   "cell_type": "code",
   "execution_count": 274,
   "metadata": {
    "collapsed": false
   },
   "outputs": [],
   "source": [
    "def Finn_preprocess(subject,fmriRun):\n",
    "    fmriFile = op.join(buildpath(subject,fmriRun),fmriRun+suffix+'.nii.gz')\n",
    "    if not op.isfile(op.join(buildpath(subject,fmriRun),fmriRun+'_FinnPrepro.nii.gz')):\n",
    "        # make WM, CSF, GM masks (if not already done)\n",
    "        makeTissueMasks(subject,fmriRun,False)\n",
    "        # get some info\n",
    "        img = nib.load(fmriFile)\n",
    "        hdr = img.header.structarr\n",
    "        nTRs = long(hdr['dim'][4])\n",
    "        # retrieve TR\n",
    "        TR = hdr['pixdim'][4]\n",
    "        # retrieve dimensions\n",
    "        dim1 = long(hdr['dim'][1])\n",
    "        dim2 = long(hdr['dim'][2])\n",
    "        dim3 = long(hdr['dim'][3])\n",
    "        ## DO PREPROCESSING:\n",
    "        ## 1) Regress temporal drift from CSF and white matter (3rd order polynomial)\n",
    "        print 'Step 1 (detrend WMCSF voxels, polynomial order 3)'\n",
    "        # ** a) create polynomial regressors **\n",
    "        nPoly = 3\n",
    "        # Create polynomial regressors centered on 0 and bounded by -1 and 1\n",
    "        x = np.arange(nTRs)\n",
    "        num_pol = range(nPoly)\n",
    "        y = np.ones((len(num_pol),len(x)))\n",
    "\n",
    "        if(doPlot): \n",
    "            plt.figure()\n",
    "            plt.title('Polynomial regressors')\n",
    "\n",
    "        for i in num_pol:\n",
    "            y[i,:] = (x - (np.max(x)/2)) **(i+1)\n",
    "            y[i,:] = y[i,:] - np.mean(y[i,:])\n",
    "            y[i,:] = y[i,:]/np.max(y[i,:])    \n",
    "            if(doPlot): plt.plot(x,y[i])\n",
    "        \n",
    "        if(doPlot):\n",
    "            plt.ylim((-1,1))\n",
    "            plt.xlim((-0.1,nTRs+0.1))\n",
    "            plt.show()\n",
    "        \n",
    "        # Print out text file for each polynomial to be used as a regressor\n",
    "        for i in num_pol:\n",
    "            np.savetxt(op.join(buildpath(subject,fmriRun),\\\n",
    "                        'poly_detrend_' + str(i+1) + '.txt'), y[i],fmt='%.2f')\n",
    "            \n",
    "        # ** b) use feat to regress them out\n",
    "        # keep only WM/CSF voxels to speed things up\n",
    "        WMCSFmaskFile = op.join(buildpath(subject,fmriRun),'WMCSFmask.nii.gz')\n",
    "        if not op.isfile(op.join(buildpath(subject,fmriRun),fmriRun+'_WMCSF.nii.gz')):\n",
    "            mymask1 = fsl.maths.ApplyMask(in_file=fmriFile, mask_file=WMCSFmaskFile, \\\n",
    "                                              out_file=op.join(buildpath(subject,fmriRun),fmriRun+'_WMCSF.nii.gz'))\n",
    "            mymask1.run()\n",
    "        \n",
    "        # copy and alter detrendpoly3.fsf\n",
    "        fsfFile = op.join(buildpath(subject,fmriRun), 'step1.fsf')\n",
    "        copyfile(op.join(DATADIR,'detrendpoly3.fsf'), fsfFile)\n",
    "        cmd = 'sed -i \\'/set fmri(outputdir) /c\\\\set fmri(outputdir) \"{}\"\\' {}'\\\n",
    "            .format(op.join(buildpath(subject,fmriRun),'step1.feat'),fsfFile)\n",
    "        call(cmd,shell=True)\n",
    "        cmd = 'sed -i \\'/set fmri(tr) /c\\\\set fmri(tr) {:.3f}\\' {}'\\\n",
    "            .format(TR,fsfFile)\n",
    "        call(cmd,shell=True)\n",
    "        cmd = 'sed -i \\'/set fmri(npts) /c\\\\set fmri(npts) {}\\' {}'\\\n",
    "            .format(nTRs,fsfFile)\n",
    "        call(cmd,shell=True)\n",
    "        cmd = 'sed -i \\'/set fmri(totalVoxels) /c\\\\set fmri(totalVoxels) {}\\' {}'\\\n",
    "            .format(dim1*dim2*dim3*nTRs,fsfFile)\n",
    "        call(cmd,shell=True) \n",
    "        cmd = 'sed -i \\'/set feat_files(1) /c\\\\set feat_files(1) \"{}\"\\' {}'\\\n",
    "            .format(op.join(buildpath(subject,fmriRun),fmriRun+'_WMCSF.nii.gz'),fsfFile)\n",
    "        call(cmd,shell=True)\n",
    "        for i in num_pol:\n",
    "            cmd = 'sed -i \\'/set fmri(custom{}) /c\\\\set fmri(custom{}) \"{}\"\\' {}'\\\n",
    "                .format(i+1,i+1,op.join(buildpath(subject,fmriRun),'poly_detrend_{}.txt'.format(i+1)),fsfFile)\n",
    "            call(cmd,shell=True)\n",
    "        \n",
    "        # run feat\n",
    "        step1_outFile = op.join(buildpath(subject,fmriRun),\\\n",
    "                               'step1.feat','stats','res4d.nii.gz')\n",
    "        if not op.isfile(step1_outFile):\n",
    "            myfeat1 = fsl.FEAT(fsf_file=fsfFile,terminal_output='none')\n",
    "            myfeat1.run()\n",
    "        \n",
    "        ## 2. Regress CSF/WM signal from gray matter voxels\n",
    "        print 'Step 2 (regress WMCSF signal from GM)'\n",
    "        # ** a) extract the WM/CSF data from the detrended volume\n",
    "        WMCSFtxtFileout = op.join(buildpath(subject,fmriRun),\\\n",
    "                                  'step1.feat','stats','WMCSF.txt')\n",
    "        if not op.isfile(WMCSFtxtFileout):\n",
    "            meants1 = fsl.ImageMeants(in_file=step1_outFile, out_file=WMCSFtxtFileout, mask=WMCSFmaskFile)\n",
    "            meants1.run()\n",
    "        \n",
    "        # ** b) keep only GM voxels to speed things up\n",
    "        GMmaskFile = op.join(buildpath(subject,fmriRun),'GMmask.nii.gz')\n",
    "        if not op.isfile(op.join(buildpath(subject,fmriRun),fmriRun+'_GM.nii.gz')):\n",
    "            mymask2 = fsl.maths.ApplyMask(in_file=fmriFile, mask_file=GMmaskFile, \\\n",
    "                                              out_file=op.join(buildpath(subject,fmriRun),fmriRun+'_GM.nii.gz'))\n",
    "            mymask2.run()\n",
    "        \n",
    "        # ** c) use feat to regress it out **\n",
    "        # copy and alter regressWMCSF.fsf\n",
    "        fsfFile = op.join(buildpath(subject,fmriRun), 'step2.fsf')\n",
    "        copyfile(op.join(DATADIR,'regressWMCSF.fsf'), fsfFile)\n",
    "        cmd = 'sed -i \\'/set fmri(outputdir) /c\\\\set fmri(outputdir) \"{}\"\\' {}'\\\n",
    "            .format(op.join(buildpath(subject,fmriRun),'step2.feat'),fsfFile)\n",
    "        call(cmd,shell=True)\n",
    "        cmd = 'sed -i \\'/set fmri(tr) /c\\\\set fmri(tr) {:.3f}\\' {}'\\\n",
    "            .format(TR,fsfFile)\n",
    "        call(cmd,shell=True)\n",
    "        cmd = 'sed -i \\'/set fmri(npts) /c\\\\set fmri(npts) {}\\' {}'\\\n",
    "            .format(nTRs,fsfFile)\n",
    "        call(cmd,shell=True)\n",
    "        cmd = 'sed -i \\'/set fmri(totalVoxels) /c\\\\set fmri(totalVoxels) {}\\' {}'\\\n",
    "            .format(dim1*dim2*dim3*nTRs,fsfFile)\n",
    "        call(cmd,shell=True) \n",
    "        cmd = 'sed -i \\'/set feat_files(1) /c\\\\set feat_files(1) \"{}\"\\' {}'\\\n",
    "            .format(op.join(buildpath(subject,fmriRun),fmriRun+'_GM.nii.gz'),fsfFile)\n",
    "        call(cmd,shell=True)\n",
    "        cmd = 'sed -i \\'/set fmri(custom1) /c\\\\set fmri(custom1) \"{}\"\\' {}'\\\n",
    "            .format(WMCSFtxtFileout,fsfFile)\n",
    "        call(cmd,shell=True)\n",
    "        \n",
    "        # run feat\n",
    "        step2_outFile = op.join(buildpath(subject,fmriRun),\\\n",
    "                               'step2.feat','stats','res4d.nii.gz')\n",
    "        if not op.isfile(step2_outFile):\n",
    "            myfeat2 = fsl.FEAT(fsf_file=fsfFile,terminal_output='none')\n",
    "            myfeat2.run()\n",
    "        \n",
    "        \n",
    "        # add the results of steps 1 & 2 for input to the next stage\n",
    "        step12_outFile = op.join(buildpath(subject,fmriRun),'step1+2.nii.gz')\n",
    "        if not op.isfile(step12_outFile):\n",
    "            myadd1 = fsl.maths.BinaryMaths(in_file=step1_outFile, operation='add',\\\n",
    "                                         operand_file=step2_outFile, out_file=step12_outFile)\n",
    "            myadd1.run()\n",
    "            \n",
    "        ## 3. Regress motion parameters (found in the Movement_Regressors_dt_txt\n",
    "        # file from HCP)    \n",
    "        print 'Step 3 (regress 12 motion parameters from whole brain)'\n",
    "        # ** a) load the detrended motion parameters\n",
    "        motionFile = op.join(buildpath(subject,fmriRun),\\\n",
    "                            'Movement_Regressors_dt.txt')\n",
    "        # this needs to be split into columns\n",
    "        colNames = ['mmx','mmy','mmz','degx','degy','degz','dmmx','dmmy','dmmz','ddegx','ddegy','ddegz']\n",
    "        df = pd.read_csv(motionFile,delim_whitespace=True,header=None)\n",
    "        df.columns = colNames\n",
    "        for iCol in range(len(colNames)):\n",
    "            with open(motionFile.replace('.txt','_'+colNames[iCol]+'.txt'),'w') as tmp:\n",
    "                df.to_csv(path_or_buf=tmp,sep='\\n',columns=[colNames[iCol]],header=None,index=False)\n",
    "                \n",
    "        # ** b) use feat to regress them out **\n",
    "        # copy and alter regressM12.fsf\n",
    "        fsfFile = op.join(buildpath(subject,fmriRun), 'step3.fsf')\n",
    "        copyfile(op.join(DATADIR,'regressM12.fsf'), fsfFile)\n",
    "        cmd = 'sed -i \\'/set fmri(outputdir) /c\\\\set fmri(outputdir) \"{}\"\\' {}'\\\n",
    "            .format(op.join(buildpath(subject,fmriRun),'step3.feat'),fsfFile)\n",
    "        call(cmd,shell=True)\n",
    "        cmd = 'sed -i \\'/set fmri(tr) /c\\\\set fmri(tr) {:.3f}\\' {}'\\\n",
    "            .format(TR,fsfFile)\n",
    "        call(cmd,shell=True)\n",
    "        cmd = 'sed -i \\'/set fmri(npts) /c\\\\set fmri(npts) {}\\' {}'\\\n",
    "            .format(nTRs,fsfFile)\n",
    "        call(cmd,shell=True)\n",
    "        cmd = 'sed -i \\'/set fmri(totalVoxels) /c\\\\set fmri(totalVoxels) {}\\' {}'\\\n",
    "            .format(dim1*dim2*dim3*nTRs,fsfFile)\n",
    "        call(cmd,shell=True) \n",
    "        cmd = 'sed -i \\'/set feat_files(1) /c\\\\set feat_files(1) \"{}\"\\' {}'\\\n",
    "            .format(step12_outFile,fsfFile)\n",
    "        call(cmd,shell=True)\n",
    "        for iCol in range(len(colNames)):\n",
    "            cmd = 'sed -i \\'/set fmri(custom{}) /c\\\\set fmri(custom{}) \"{}\"\\' {}'\\\n",
    "                .format(iCol+1,iCol+1,motionFile.replace('.txt','_'+colNames[iCol]+'.txt'),fsfFile)\n",
    "            call(cmd,shell=True)   \n",
    "            \n",
    "        # run feat\n",
    "        step3_outFile = op.join(buildpath(subject,fmriRun),\\\n",
    "                               'step3.feat','stats','res4d.nii.gz')\n",
    "        if not op.isfile(step3_outFile):\n",
    "            myfeat3 = fsl.FEAT(fsf_file=fsfFile,terminal_output='none')\n",
    "            myfeat3.run()\n",
    "\n",
    "        ## 4. Temporal smoothing with Gaussian kernel (sigma = 1 TR)\n",
    "        print 'Step 4 (temporal smoothing with Gaussian kernel)'\n",
    "        step4_outFile = op.join(buildpath(subject,fmriRun),'step4.nii.gz')\n",
    "        if not op.isfile(step4_outFile):\n",
    "            myfilter = fsl.maths.TemporalFilter(in_file=step3_outFile,highpass_sigma=0, lowpass_sigma=1,\\\n",
    "                                               out_file=step4_outFile)\n",
    "            myfilter.run()\n",
    "        ## 5. Regress temporal drift from gray matter (3rd order polynomial)\n",
    "        print ('Step 5 (detrend gray matter voxels, polynomial order 3)')\n",
    "        GMmaskfile = op.join(buildpath(subject,fmriRun),'GMmask.nii.gz')\n",
    "        if not op.isfile(step4_outFile.replace('.nii.gz','_GM.nii.gz')):\n",
    "            mymask3 = fsl.maths.ApplyMask(in_file=step4_outFile, mask_file=GMmaskFile, \\\n",
    "                                              out_file=step4_outFile.replace('.nii.gz','_GM.nii.gz'))\n",
    "            mymask3.run()\n",
    "        WMCSFmaskFile = op.join(buildpath(subject,fmriRun),'WMCSFmask.nii.gz') \n",
    "        if not op.isfile(step4_outFile.replace('.nii.gz','_WMCSF.nii.gz')):\n",
    "            mymask4 = fsl.maths.ApplyMask(in_file=step4_outFile, mask_file=WMCSFmaskFile, \\\n",
    "                                              out_file=step4_outFile.replace('.nii.gz','_WMCSF.nii.gz'))\n",
    "            mymask4.run()\n",
    "        \n",
    "        # ** b) use feat to regress them out **\n",
    "        # copy and alter detrendpoly3.fsf\n",
    "        fsfFile = op.join(buildpath(subject,fmriRun), 'step5.fsf')\n",
    "        copyfile(op.join(DATADIR,'detrendpoly3.fsf'), fsfFile)\n",
    "        cmd = 'sed -i \\'/set fmri(outputdir) /c\\\\set fmri(outputdir) \"{}\"\\' {}'\\\n",
    "            .format(op.join(buildpath(subject,fmriRun),'step5.feat'),fsfFile)\n",
    "        call(cmd,shell=True)\n",
    "        cmd = 'sed -i \\'/set fmri(tr) /c\\\\set fmri(tr) {:.3f}\\' {}'\\\n",
    "            .format(TR,fsfFile)\n",
    "        call(cmd,shell=True)\n",
    "        cmd = 'sed -i \\'/set fmri(npts) /c\\\\set fmri(npts) {}\\' {}'\\\n",
    "            .format(nTRs,fsfFile)\n",
    "        call(cmd,shell=True)\n",
    "        cmd = 'sed -i \\'/set fmri(totalVoxels) /c\\\\set fmri(totalVoxels) {}\\' {}'\\\n",
    "            .format(dim1*dim2*dim3*nTRs,fsfFile)\n",
    "        call(cmd,shell=True) \n",
    "        cmd = 'sed -i \\'/set feat_files(1) /c\\\\set feat_files(1) \"{}\"\\' {}'\\\n",
    "            .format(step4_outFile.replace('.nii.gz','_GM.nii.gz'),fsfFile)\n",
    "        call(cmd,shell=True)\n",
    "        for i in num_pol:\n",
    "            cmd = 'sed -i \\'/set fmri(custom{}) /c\\\\set fmri(custom{}) \"{}\"\\' {}'\\\n",
    "                .format(i+1,i+1,op.join(buildpath(subject,fmriRun),'poly_detrend_{}.txt'.format(i+1)),fsfFile)\n",
    "            call(cmd,shell=True)\n",
    "        \n",
    "        # run feat\n",
    "        step5tmp_outFile = op.join(buildpath(subject,fmriRun),\\\n",
    "                               'step5.feat','stats','res4d.nii.gz')\n",
    "        if not op.isfile(step5tmp_outFile):\n",
    "            myfeat4 = fsl.FEAT(fsf_file=fsfFile,terminal_output='none')\n",
    "            myfeat4.run()\n",
    "            \n",
    "        # add the WMCSF voxels back in for input to the next stage\n",
    "        step5_outFile = op.join(buildpath(subject,fmriRun),'step5.nii.gz')\n",
    "        if not op.isfile(step5_outFile):\n",
    "            myadd2 = fsl.maths.BinaryMaths(in_file=step5tmp_outFile, operation='add',\\\n",
    "                operand_file=step4_outFile.replace('.nii.gz','_WMCSF.nii.gz'), out_file=step5_outFile)\n",
    "            myadd2.run()\n",
    "            \n",
    "        ## 6. Regress global mean (mask includes all voxels in brain mask,\n",
    "        # gray matter, white matter and CSF\n",
    "        print 'Step 6 (GSR)'\n",
    "        # ** a) extract the WM/CSF/GM data from detrended volume\n",
    "        WMCSFGMmaskFile = op.join(buildpath(subject,fmriRun),'WMCSFGMmask.nii.gz')\n",
    "        WMCSFGMtxtFileout = op.join(buildpath(subject,fmriRun),\\\n",
    "                                   'step5.feat','stats','WMCSFGM.txt')\n",
    "        if not op.isfile(WMCSFGMtxtFileout):\n",
    "            meants2 = fsl.ImageMeants(in_file=step5_outFile, out_file=WMCSFGMtxtFileout, mask=WMCSFGMmaskFile)\n",
    "            meants2.run()\n",
    "            \n",
    "        # ** c) use feat to regress it out\n",
    "        # copy and alter regressWMCSF.fsf\n",
    "        fsfFile = op.join(buildpath(subject,fmriRun), 'step6.fsf')\n",
    "        copyfile(op.join(DATADIR,'regressWMCSF.fsf'), fsfFile)\n",
    "        cmd = 'sed -i \\'/set fmri(outputdir) /c\\\\set fmri(outputdir) \"{}\"\\' {}'\\\n",
    "            .format(op.join(buildpath(subject,fmriRun),'step6.feat'),fsfFile)\n",
    "        call(cmd,shell=True)\n",
    "        cmd = 'sed -i \\'/set fmri(tr) /c\\\\set fmri(tr) {:.3f}\\' {}'\\\n",
    "            .format(TR,fsfFile)\n",
    "        call(cmd,shell=True)\n",
    "        cmd = 'sed -i \\'/set fmri(npts) /c\\\\set fmri(npts) {}\\' {}'\\\n",
    "            .format(nTRs,fsfFile)\n",
    "        call(cmd,shell=True)\n",
    "        cmd = 'sed -i \\'/set fmri(totalVoxels) /c\\\\set fmri(totalVoxels) {}\\' {}'\\\n",
    "            .format(dim1*dim2*dim3*nTRs,fsfFile)\n",
    "        call(cmd,shell=True) \n",
    "        cmd = 'sed -i \\'/set feat_files(1) /c\\\\set feat_files(1) \"{}\"\\' {}'\\\n",
    "            .format(step5_outFile,fsfFile)\n",
    "        call(cmd,shell=True)\n",
    "        cmd = 'sed -i \\'/set fmri(custom1) /c\\\\set fmri(custom1) \"{}\"\\' {}'\\\n",
    "            .format(WMCSFGMtxtFileout,fsfFile)\n",
    "        call(cmd,shell=True)\n",
    "        \n",
    "        # run feat\n",
    "        step6_outFile = op.join(buildpath(subject,fmriRun),\\\n",
    "                               'step6.feat','stats','res4d.nii.gz')\n",
    "        if not op.isfile(step6_outFile):\n",
    "            myfeat5 = fsl.FEAT(fsf_file=fsfFile,terminal_output='none')\n",
    "            myfeat5.run()\n",
    "            \n",
    "        ## We're done! Copy the resulting file\n",
    "        copyfile(step6_outFile,op.join(buildpath(subject,fmriRun),\\\n",
    "                                      fmriRun+'_FinnPrepro.nii.gz'))\n",
    "        \n",
    "            "
   ]
  },
  {
   "cell_type": "code",
   "execution_count": null,
   "metadata": {
    "collapsed": false,
    "scrolled": true
   },
   "outputs": [],
   "source": [
    "Finn_preprocess(subject,fmriRun)"
   ]
  },
  {
   "cell_type": "code",
   "execution_count": 276,
   "metadata": {
    "collapsed": false
   },
   "outputs": [
    {
     "name": "stdout",
     "output_type": "stream",
     "text": [
      "/media/paola/HCP/992774/MNINonLinear/Results/rfMRI_REST1_RL/rfMRI_REST1_RL_hp2000_clean.nii.gz\n"
     ]
    },
    {
     "data": {
      "text/plain": [
       "'992774'"
      ]
     },
     "execution_count": 276,
     "metadata": {},
     "output_type": "execute_result"
    }
   ],
   "source": [
    "print fmriFile\n",
    "op.basename(op.dirname(op.dirname(op.dirname(op.dirname(fmriFile)))))"
   ]
  },
  {
   "cell_type": "code",
   "execution_count": 142,
   "metadata": {
    "collapsed": false
   },
   "outputs": [],
   "source": [
    "def Finn_loadandpreprocess(subject, fmriRun, parcellation, overwrite):\n",
    "    fmriFile = op.join(buildpath(subject,fmriRun),fmriRun+suffix+'.nii.gz')\n",
    "    ResultsDir = op.join(DATADIR,'Results')\n",
    "    if not op.isdir(ResultsDir): mkdir(ResultsDir)\n",
    "    ResultsDir = op.join(ResultsDir,'Finn')\n",
    "    if not op.isdir(ResultsDir): mkdir(ResultsDir)\n",
    "    ResultsDir = op.join(ResultsDir,parcellation)\n",
    "    if not op.isdir(ResultsDir): mkdir(ResultsDir)\n",
    "    if parcellation=='shenetal_neuroimage2013':\n",
    "        uniqueParcels = range(268)\n",
    "    else:\n",
    "        print \"Invalid parcellation code\"\n",
    "        return\n",
    "    \n",
    "    for iParcel in uniqueParcels:\n",
    "        parcelMaskFile = op.join(PARCELDIR,parcellation,'parcel{:03d}.nii.gz'.format(iParcel+1))\n",
    "        if not op.isfile(parcelMaskFile):\n",
    "            print 'Making a binary volume mask for each parcel'\n",
    "            mymaths = fsl.maths.MathsCommand(in_file=op.join(PARCELDIR, parcellation,'fconn_atlas_150_2mm.nii'),\\\n",
    "                out_file=parcelMaskFile, args='-thr {:.1f} -uthr {:.1f}'.format(iParcel+1-0.1, iParcel+1+0.1)) \n",
    "            mymaths.run()\n",
    "    if not op.isfile(fmriFile):\n",
    "        print fmriFile, 'does not exist'\n",
    "        return\n",
    "    \n",
    "    tsDir = op.join(buildpath(subject,fmriRun),parcellation)\n",
    "    if not op.isdir(tsDir): mkdir(tsDir)\n",
    "    alltsFile = op.join(ResultsDir,subject+'_'+fmriRun+'.txt')\n",
    "    alltsGMFile = op.join(ResultsDir,subject+'_'+fmriRun+'_GM.txt')\n",
    "    if not (op.isfile(alltsFile)) or not (op.isfile(alltsGMFile)) or overwrite:\n",
    "        fmriFile_prepro = op.join(buildpath(subject,fmriRun), fmriRun+'_FinnPrepro.nii.gz')\n",
    "        # make WM, CSF, GM masks\n",
    "        if not op.isfile(op.join(buildpath(subject,fmriRun), fmriRun+'GMmask.nii.gz')):\n",
    "            makeTissueMasks(subject,fmriRun,overwrite)\n",
    "        \n",
    "        # perform preprocessing (if not already done)\n",
    "        if not op.isfile(fmriFile_prepro):\n",
    "            Finn_preprocess(fmriFile)\n",
    "            \n",
    "        # calculate signal in each of the nodes by averaging across all voxels in node\n",
    "        print 'Extracting mean data from',str(len(uniqueParcels)),'parcels for ',fmriFile_prepro\n",
    "        subjectParcelDir = op.join(DATADIR,subject,'MNINonLinear','Results','parcellations')\n",
    "        if not op.isdir(subjectParcelDir): mkdir(subjectParcelDir)\n",
    "        if not op.isdir(op.join(subjectParcelDir,parcellation)): mkdir(op.join(subjectParcelDir,parcellation))\n",
    "        \n",
    "        for iParcel in uniqueParcels:\n",
    "            parcelMaskFile = op.join(PARCELDIR,parcellation,'parcel{:03d}.nii.gz'.format(iParcel+1))\n",
    "            GMmaskFile = op.join(buildpath(subject,fmriRun),'GMmask.nii.gz')\n",
    "            # intersect GM & parcel\n",
    "            parcelGMMaskFile = op.join(subjectParcelDir,parcellation,'GMparcel{:03d}.nii.gz'.format(iParcel+1))\n",
    "            mymaths = fsl.maths.MathsCommand(in_file=parcelMaskFile,\\\n",
    "                out_file=parcelGMMaskFile, args='-mul '+GMmaskFile)\n",
    "            mymaths.run()\n",
    "            tsFile = op.join(tsDir,'parcel{:03d}.txt'.format(iParcel+1))\n",
    "            if not op.isfile(tsFile):\n",
    "                # simply average the voxels within the mask\n",
    "                meants1 = fsl.ImageMeants(in_file=fmriFile_prepro, out_file=tsFile, mask=parcelMaskFile)\n",
    "                meants1.run()\n",
    "                \n",
    "            tsFile = op.join(tsDir,'GMparcel{:03d}.txt'.format(iParcel+1))    \n",
    "            if not op.isfile(tsFile):\n",
    "                # simply average the voxels within the mask\n",
    "                meants2 = fsl.ImageMeants(in_file=fmriFile_prepro, out_file=tsFile, mask=parcelGMMaskFile)\n",
    "                meants2.run()\n",
    "                \n",
    "        # concatenate all ts\n",
    "        print 'Concatenating data'\n",
    "        cmd = 'paste '+op.join(tsDir,'parcel*.txt')+' > '+alltsFile\n",
    "        call(cmd, shell=True)\n",
    "        cmd = 'paste '+op.join(tsDir,'GMparcel*.txt')+' > '+alltsGMFile\n",
    "        call(cmd, shell=True)         \n",
    "        "
   ]
  },
  {
   "cell_type": "code",
   "execution_count": null,
   "metadata": {
    "collapsed": false
   },
   "outputs": [],
   "source": [
    "Finn_loadandpreprocess(subject,fmriRun, parcellation, overwrite)"
   ]
  },
  {
   "cell_type": "markdown",
   "metadata": {},
   "source": [
    "### Get subjects"
   ]
  },
  {
   "cell_type": "code",
   "execution_count": 16,
   "metadata": {
    "collapsed": false
   },
   "outputs": [
    {
     "name": "stdout",
     "output_type": "stream",
     "text": [
      "Selected 125 from the release Q2\n",
      "Number of males is: 40\n",
      "Age range is 22 - 35\n"
     ]
    }
   ],
   "source": [
    "df = pd.read_csv(behavFile)\n",
    "\n",
    "# select subjects according to release\n",
    "if release == 'Q2':\n",
    "    ind = (df['Release'] == 'Q2') \\\n",
    "    | (df['Release'] == 'Q1')\n",
    "elif release == 'S500':\n",
    "    ind = (df['Release'] != 'Q2') & (df['Release'] != 'Q1')\n",
    "else:\n",
    "    sys.exit(\"Invalid release code\")\n",
    "    \n",
    "# select subjects that have completed all fMRI\n",
    "ind = ind & ((df['fMRI_WM_Compl']== True) & (df['fMRI_Mot_Compl']==True) \\\n",
    "        & (df['fMRI_Lang_Compl']==True) & (df['fMRI_Emo_Compl']==True) \\\n",
    "        & (df['RS-fMRI_Count']==4))\n",
    "                \n",
    "df = df[ind]  \n",
    "\n",
    "# check if either of the two subjects recommended for exclusion by HCP are still present\n",
    "df = df[~df['Subject'].isin(['209733','528446'])]\n",
    "df.index = range(df.shape[0])\n",
    "print 'Selected', str(df.shape[0]), 'from the release',release\n",
    "print 'Number of males is:', df[df['Gender']=='M'].shape[0]\n",
    "tmpAgeRanges = sorted(df['Age'].unique())\n",
    "print 'Age range is', tmpAgeRanges[0].split('-')[0], '-', tmpAgeRanges[-1].split('-')[1]\n",
    "\n",
    "# list of all selected subjects\n",
    "subjects = df['Subject']\n",
    "# pull their IQ, Age, Gender\n",
    "age = df['Age']\n",
    "gender = df['Gender']\n",
    "score = df[outScore]"
   ]
  },
  {
   "cell_type": "markdown",
   "metadata": {},
   "source": [
    "### Score distribution"
   ]
  },
  {
   "cell_type": "code",
   "execution_count": 117,
   "metadata": {
    "collapsed": false
   },
   "outputs": [
    {
     "data": {
      "text/plain": [
       "array([ 3,  7, 10, 10, 15, 17, 19, 27, 17])"
      ]
     },
     "execution_count": 117,
     "metadata": {},
     "output_type": "execute_result"
    },
    {
     "data": {
      "image/png": "[encoded data removed]",
      "text/plain": [
       "<matplotlib.figure.Figure at 0x7fc952069150>"
      ]
     },
     "metadata": {},
     "output_type": "display_data"
    }
   ],
   "source": [
    "plot_hist(score, 'Distribution of IQ in Finn et al Nat. Neuro 2015 sample', \\\n",
    "          'Score of Raven\\'s progressive matrices, 24 items')"
   ]
  },
  {
   "cell_type": "markdown",
   "metadata": {},
   "source": [
    "### Exclusion of high-motion subjects\n",
    "Further exclude subjects with >0.14 frame-to-frame head motion estimate averged across both rest runs (arbitrary threshold as in Finn et al 2015)"
   ]
  },
  {
   "cell_type": "code",
   "execution_count": null,
   "metadata": {
    "collapsed": false,
    "scrolled": true
   },
   "outputs": [],
   "source": [
    "ResultsDir = op.join(DATADIR, 'Testing','Results')\n",
    "if not op.isdir(ResultsDir): makedirs(ResultsDir)\n",
    "#ResultsDir = op.join(DATADIR,'Results')\n",
    "#if not op.isdir(ResultsDir): mkdir(ResultsDir)\n",
    "ResultsDir = op.join(ResultsDir, 'Finn')\n",
    "if not op.isdir(ResultsDir): mkdir(ResultsDir)\n",
    "ResultsDir = op.join(ResultsDir, parcellation)\n",
    "if not op.isdir(ResultsDir): mkdir(ResultsDir)\n",
    "\n",
    "PEdirs = ['LR', 'RL']\n",
    "RelRMSMean = np.zeros([len(subjects), 2])\n",
    "excludeSub = list()\n",
    "\n",
    "for iSub in range(len(subjects)):\n",
    "    subject = str(subjects[iSub])\n",
    "    RelRMSMeanFile = op.join(buildpath(subject, thisRun+'_zz'), 'Movement_RelativeRMS_mean.txt')\n",
    "    fLR = RelRMSMeanFile.replace('zz','LR');\n",
    "    fRL = RelRMSMeanFile.replace('zz','RL');\n",
    "    \n",
    "    if op.isfile(fLR) & op.isfile(fRL):\n",
    "        with open(fLR,'r') as tmp:\n",
    "            RelRMSMean[iSub,0] = float(tmp.read())\n",
    "        with open(fRL,'r') as tmp:\n",
    "            RelRMSMean[iSub,1] = float(tmp.read())\n",
    "        print '{} {:.3f} {:.3f}'.format(subjects[iSub], RelRMSMean[iSub,0], RelRMSMean[iSub,1])\n",
    "        if np.mean(RelRMSMean[iSub,:]) > 0.14:\n",
    "            print subjects[iSub], ': too much motion, exclude'\n",
    "            excludeSub.append(iSub)\n",
    "            continue\n",
    "     \n",
    "    for iPEdir in range(len(PEdirs)):\n",
    "        PEdir=PEdirs[iPEdir]\n",
    "        fmriRun = thisRun+'_'+PEdir \n",
    "        fmriFile = op.join(buildpath(subject,fmriRun),\n",
    "                           fmriRun+suffix+'.nii.gz')\n",
    "        if not op.isfile(fmriFile):\n",
    "            print str(subjects[iSub]), 'missing', fmriFile, ', exclude'\n",
    "            excludeSub.append(iSub)\n",
    "            continue\n",
    "        \n",
    "        if not (op.isfile(op.join(ResultsDir, str(subjects[iSub])+'_'+thisRun+'_'+PEdir+'.txt'))) \\\n",
    "        or not (op.isfile(op.join(ResultsDir, str(subjects[iSub])+'_'+thisRun+'_'+PEdir+'._GM.txt'))) \\\n",
    "        or overwrite:\n",
    "            print 'load and preprocess'\n",
    "            Finn_loadandpreprocess(subject, fmriRun, parcellation, overwrite)\n",
    "        else:\n",
    "            print subject[iSub], ' : ', PEdir, 'results already computed; skipping'\n",
    "\n",
    "indkeep = np.setdiff1d(range(len(subjects)),excludeSub, assume_unique=True)"
   ]
  },
  {
   "cell_type": "code",
   "execution_count": 214,
   "metadata": {
    "collapsed": false
   },
   "outputs": [
    {
     "data": {
      "image/png": "[encoded data removed]",
      "text/plain": [
       "<matplotlib.figure.Figure at 0x7fc95205a210>"
      ]
     },
     "metadata": {},
     "output_type": "display_data"
    },
    {
     "name": "stdout",
     "output_type": "stream",
     "text": [
      "With all subjects: corr(IQ,motion) = -0.154 (p = 0.087)\n",
      "After discarding high movers: corr(IQ,motion) = -0.056 (p = 0.552)\n"
     ]
    }
   ],
   "source": [
    "plt.scatter(score[indkeep],np.mean(RelRMSMean[indkeep,:],axis=1),c='b')\n",
    "plt.scatter(score[excludeSub],np.mean(RelRMSMean[excludeSub,:],axis=1),c='r')\n",
    "# fit a curve to the data using a least squares 1st order polynomial fit\n",
    "z1 = np.polyfit(score[indkeep],np.mean(RelRMSMean[indkeep,:],axis=1),1)\n",
    "z2 = np.polyfit(score,np.mean(RelRMSMean,axis=1),1)\n",
    "p1 = np.poly1d(z1)\n",
    "p2 = np.poly1d(z2)                \n",
    "fit1 = p1(score[indkeep])\n",
    "fit2 = p2(score)\n",
    "# get the coordinates for the fit curve\n",
    "c1_x = [np.min(score[indkeep]),np.max(score[indkeep])]\n",
    "c1_y = p1(c1_x)\n",
    "c2_x = [np.min(score),np.max(score)]\n",
    "c2_y = p2(c2_x)\n",
    "# plot line of best fit\n",
    "plt.plot(c2_x,c2_y,'r-',label='before exclusion')\n",
    "plt.plot(c1_x,c1_y,'b-',label='after exclusion')\n",
    "plt.legend(loc=0)\n",
    "plt.show()\n",
    "rho1,p1 = stats.pearsonr(score[indkeep],np.mean(RelRMSMean[indkeep,:],axis=1))\n",
    "rho2,p2 = stats.pearsonr(score,np.mean(RelRMSMean,axis=1))                         \n",
    "print 'With all subjects: corr(IQ,motion) = {:.3f} (p = {:.3f})'.format(rho2,p2)\n",
    "print 'After discarding high movers: corr(IQ,motion) = {:.3f} (p = {:.3f})'.format(rho1,p1)"
   ]
  },
  {
   "cell_type": "markdown",
   "metadata": {},
   "source": [
    "### Correlation matrices"
   ]
  },
  {
   "cell_type": "markdown",
   "metadata": {},
   "source": [
    "Correlate all pairs of node timecourses, resulting in 268x268 matrix of r-values"
   ]
  },
  {
   "cell_type": "markdown",
   "metadata": {},
   "source": [
    "Apply Fisher transform to obtain 268x268 matrix of z-scores. The LR and RL runs are never concatenated. Rather, we run the above pipeline on each run separately and average the two resulting matrices of z-scores."
   ]
  },
  {
   "cell_type": "code",
   "execution_count": 93,
   "metadata": {
    "collapsed": false
   },
   "outputs": [
    {
     "data": {
      "text/plain": [
       "[8, 15, 34, 37, 51, 72, 104, 122]"
      ]
     },
     "execution_count": 93,
     "metadata": {},
     "output_type": "execute_result"
    }
   ],
   "source": [
    "excludeSub"
   ]
  },
  {
   "cell_type": "code",
   "execution_count": 101,
   "metadata": {
    "collapsed": false
   },
   "outputs": [],
   "source": [
    "# Whole Parcels\n",
    "corrmats = np.zeros([268,268,len(indkeep)])\n",
    "scores = np.zeros([len(indkeep)])\n",
    "index = 0\n",
    "for iSub in range(len(subjects)):\n",
    "    if iSub not in excludeSub:\n",
    "        PEdir=PEdirs[iPEdir] \n",
    "        tsFile_LR=op.join(ResultsDir,str(subjects[iSub])+'_'+thisRun+'_LR.txt')\n",
    "        tsFile_RL=op.join(ResultsDir,str(subjects[iSub])+'_'+thisRun+'_RL.txt')\n",
    "        ts_LR = np.loadtxt(tsFile_LR)\n",
    "        ts_RL = np.loadtxt(tsFile_RL)\n",
    "        # Fisher z transform of correlation coefficients\n",
    "        corrMat_LR = np.arctanh(np.corrcoef(ts_LR,rowvar=0))\n",
    "        corrMat_RL = np.arctanh(np.corrcoef(ts_RL,rowvar=0))\n",
    "        np.fill_diagonal(corrMat_LR,1)\n",
    "        np.fill_diagonal(corrMat_RL,1)\n",
    "        corrmats[:,:,index] = (corrMat_LR + corrMat_RL)/2\n",
    "        scores[index] = score[iSub]\n",
    "        \n",
    "results = {}\n",
    "results[outMat] = corrmats\n",
    "results[outScore] = scores\n",
    "sio.savemat(op.join(ResultsDir,'{}_HCP_{}.mat'.format(thisRun,release)),results)\n",
    "\n",
    "# GM Parcels        \n",
    "index = 0\n",
    "for iSub in range(len(subjects)):\n",
    "    if iSub not in excludeSub:\n",
    "        PEdir=PEdirs[iPEdir] \n",
    "        tsFile_LR=op.join(ResultsDir,str(subjects[iSub])+'_'+thisRun+'_LR_GM.txt')\n",
    "        tsFile_RL=op.join(ResultsDir,str(subjects[iSub])+'_'+thisRun+'_RL_GM.txt')\n",
    "        ts_LR = np.loadtxt(tsFile_LR)\n",
    "        ts_RL = np.loadtxt(tsFile_RL)\n",
    "        # Fisher z transform of correlation coefficients\n",
    "        corrMat_LR = np.arctanh(np.corrcoef(ts_LR,rowvar=0))\n",
    "        corrMat_RL = np.arctanh(np.corrcoef(ts_RL,rowvar=0))\n",
    "        np.fill_diagonal(corrMat_LR,1)\n",
    "        np.fill_diagonal(corrMat_RL,1)\n",
    "        corrmats[:,:,index] = (corrMat_LR + corrMat_RL)/2\n",
    "        scores[index] = score[iSub]\n",
    "        \n",
    "results = {}\n",
    "results[outMat] = corrmats\n",
    "results[outScore] = scores\n",
    "sio.savemat(op.join(ResultsDir,'{}_HCP_{}_GM.mat'.format(thisRun,release)),results)      "
   ]
  },
  {
   "cell_type": "markdown",
   "metadata": {},
   "source": [
    "### Behavioral prediction"
   ]
  },
  {
   "cell_type": "code",
   "execution_count": 161,
   "metadata": {
    "collapsed": false
   },
   "outputs": [],
   "source": [
    "toLoad = 'rfMRI_REST1_HCP_Q2'\n",
    "data = sio.loadmat(toLoad)\n",
    "\n",
    "## INPUTS\n",
    "all_mats = data['rest_1_mat']\n",
    "all_behav = data['PMAT24_A_CR']\n",
    "\n",
    "# threshold for feature selection\n",
    "thresh = 0.01\n",
    "\n",
    "no_sub = all_mats.shape[2]\n",
    "no_node = all_mats.shape[0]\n",
    "\n",
    "behav_pred_pos = np.zeros([no_sub,1])\n",
    "behav_pred_neg = np.zeros([no_sub,1])"
   ]
  },
  {
   "cell_type": "code",
   "execution_count": 211,
   "metadata": {
    "collapsed": false
   },
   "outputs": [],
   "source": [
    "train_index = range(125)\n",
    "# leave out subject from matrices and behaviour\n",
    "train_mats = all_mats[:,:,train_index]\n",
    "train_vcts = np.reshape(train_mats, [-1,train_mats.shape[2]])\n",
    "train_behav = all_behav[train_index]\n",
    "vcts_len = train_vcts.shape[0]\n",
    "# correlate all edges with behavior\n",
    "pears = [stats.pearsonr(train_vcts[i,train_index],np.squeeze(train_behav[train_index])) \n",
    "         for i in range(vcts_len)]\n",
    "# set threshold and define masks\n",
    "idx_filtered_pos = np.array([idx for idx in range(vcts_len) \n",
    "                             if pears[idx][1]<thresh and pears[idx][0]>0])\n",
    "idx_filtered_neg = np.array([idx for idx in range(vcts_len) \n",
    "                             if pears[idx][1]<thresh and pears[idx][0]<0])\n",
    "filtered_pos = train_vcts[np.ix_(idx_filtered_pos,train_index)]\n",
    "filtered_neg = train_vcts[np.ix_(idx_filtered_neg,train_index)]\n",
    "# get sum of all edges in TRAIN subs (divide by 2 to control\n",
    "# for the fact that matrices are symmetric)\n",
    "train_sumpos = filtered_pos.sum(axis=0)/2 \n",
    "train_sumneg = filtered_neg.sum(axis=0)/2\n",
    "# build model on TRAIN subs\n",
    "z_pos = np.polyfit(train_sumpos,np.squeeze(train_behav),1)\n",
    "p = np.poly1d(z_pos)\n",
    "fit_pos = p(train_sumpos)\n",
    "z_neg = np.polyfit(train_sumneg,np.squeeze(train_behav),1)\n",
    "p = np.poly1d(z_neg)\n",
    "fit_neg = p(train_sumneg)\n",
    "# run model on TEST sub\n",
    "test_mats = all_mats[:,:,test_index]\n",
    "test_vec = np.reshape(test_mats, [-1,test_mats.shape[2]])\n",
    "test_sumpos = test_vec[idx_filtered_pos].sum()/2\n",
    "test_sumneg = test_vec[idx_filtered_neg].sum()/2\n",
    "behav_pred_pos[test_index] = z_pos[0] * test_sumpos + z_pos[1]\n",
    "behav_pred_neg[test_index] = z_neg[0] * test_sumneg + z_neg[1]\n",
    "\n",
    "# compare predicted and observed score\n",
    "R_pos,P_pos = stats.pearsonr(behav_pred_pos,np.squeeze(all_behav))\n",
    "R_neg,P_neg = stats.pearsonr(behav_pred_neg,np.squeeze(all_behav))"
   ]
  },
  {
   "cell_type": "code",
   "execution_count": 222,
   "metadata": {
    "collapsed": false
   },
   "outputs": [
    {
     "data": {
      "text/plain": [
       "(71824, 124)"
      ]
     },
     "execution_count": 222,
     "metadata": {},
     "output_type": "execute_result"
    }
   ],
   "source": [
    "train_vcts.shape"
   ]
  },
  {
   "cell_type": "code",
   "execution_count": 234,
   "metadata": {
    "collapsed": false
   },
   "outputs": [],
   "source": [
    "loo = cross_validation.LeaveOneOut(no_sub)\n",
    "lr = linear_model.LinearRegression()\n",
    "predictions_pos = np.zeros([no_sub,1])\n",
    "predictions_neg = np.zeros([no_sub,1])\n",
    "\n",
    "for train_index, test_index in loo:\n",
    "    # leave out subject from matrices and behaviour\n",
    "    train_mats = all_mats[:,:,train_index]\n",
    "    train_vcts = np.reshape(train_mats, [-1,train_mats.shape[2]])\n",
    "    train_behav = all_behav[train_index]\n",
    "    vcts_len = train_vcts.shape[0]\n",
    "    # correlate all edges with behavior\n",
    "    pears = [stats.pearsonr(train_vcts[i,:],np.squeeze(train_behav)) \n",
    "             for i in range(vcts_len)]\n",
    "    # set threshold and define masks\n",
    "    idx_filtered_pos = np.array([idx for idx in range(vcts_len) \n",
    "                                 if pears[idx][1]<thresh and pears[idx][0]>0])\n",
    "    idx_filtered_neg = np.array([idx for idx in range(vcts_len) \n",
    "                                 if pears[idx][1]<thresh and pears[idx][0]<0])\n",
    "    filtered_pos = train_vcts[idx_filtered_pos,:]\n",
    "    filtered_neg = train_vcts[idx_filtered_neg,:]\n",
    "    # get sum of all edges in TRAIN subs (divide by 2 to control\n",
    "    # for the fact that matrices are symmetric)\n",
    "    train_sumpos = filtered_pos.sum(axis=0)/2 \n",
    "    train_sumneg = filtered_neg.sum(axis=0)/2\n",
    "    # build model on TRAIN subs\n",
    "    z_pos = np.polyfit(train_sumpos,np.squeeze(train_behav),1)\n",
    "    p = np.poly1d(z_pos)\n",
    "    fit_pos = p(train_sumpos)\n",
    "    z_neg = np.polyfit(train_sumneg,np.squeeze(train_behav),1)\n",
    "    p = np.poly1d(z_neg)\n",
    "    fit_neg = p(train_sumneg)\n",
    "    # run model on TEST sub\n",
    "    test_mats = all_mats[:,:,test_index]\n",
    "    test_vec = np.reshape(test_mats, [-1,test_mats.shape[2]])\n",
    "    test_sumpos = test_vec[idx_filtered_pos].sum()/2\n",
    "    test_sumneg = test_vec[idx_filtered_neg].sum()/2\n",
    "    behav_pred_pos[test_index] = z_pos[0] * test_sumpos + z_pos[1]\n",
    "    behav_pred_neg[test_index] = z_neg[0] * test_sumneg + z_neg[1]\n",
    "    lr_pos = lr.fit(train_sumpos.reshape(-1,1),train_behav)\n",
    "    predictions_pos[test_index] = lr_pos.predict(test_sumpos)\n",
    "    lr_neg = lr.fit(train_sumneg.reshape(-1,1),train_behav)\n",
    "    predictions_neg[test_index] = lr_neg.predict(test_sumneg) \n",
    "    \n",
    "# compare predicted and observed score\n",
    "R_pos,P_pos = stats.pearsonr(behav_pred_pos,np.squeeze(all_behav))\n",
    "R_neg,P_neg = stats.pearsonr(behav_pred_neg,np.squeeze(all_behav))    "
   ]
  },
  {
   "cell_type": "code",
   "execution_count": null,
   "metadata": {
    "collapsed": true
   },
   "outputs": [],
   "source": [
    "loo = cross_validation.LeaveOneOut(n_subj)\n",
    "lr = linear_model.LinearRegression()\n",
    "errors_pos = np.zeros([n_subj,1])\n",
    "errors_neg = np.zeros([n_subj,1])\n",
    "predictions_pos = np.zeros([n_subj,1])\n",
    "predictions_neg = np.zeros([n_subj,1])\n",
    "\n",
    "def regress(p,score,edges):\n",
    "    i=0\n",
    "    f = FloatProgress(min=0, max=n_subj)\n",
    "    display(f)\n",
    "    for train_index, test_index in loo:\n",
    "        pears = [stats.pearsonr(edges[train_index,i],gF[train_index]) for i in range(0,n_edges)]\n",
    "        # select edges (positively and negatively) correlated with gF with threshold p\n",
    "        idx_filtered_pos = np.array([idx for idx in range(1,n_edges) if pears[idx][1]<p and pears[idx][0]>0])\n",
    "        idx_filtered_neg = np.array([idx for idx in range(1,n_edges) if pears[idx][1]<p and pears[idx][0]<0])\n",
    "        filtered_pos = edges[np.ix_(train_index,idx_filtered_pos)]\n",
    "        filtered_neg = edges[np.ix_(train_index,idx_filtered_neg)]\n",
    "        # compute network statistic for each subject in training\n",
    "        strength_pos = filtered_pos.sum(axis=1) \n",
    "        strength_neg = filtered_neg.sum(axis=1)\n",
    "        # compute network statistic for test subject\n",
    "        str_pos_test = edges[test_index,idx_filtered_pos].sum()\n",
    "        str_neg_test = edges[test_index,idx_filtered_neg].sum()\n",
    "        # regression\n",
    "        lr_pos = lr.fit(strength_pos.reshape(-1,1),gF[train_index])\n",
    "        predictions_pos[i] = lr_pos.predict(str_pos_test)\n",
    "        lr_neg = lr.fit(strength_neg.reshape(-1,1),gF[train_index])\n",
    "        predictions_neg[i] = lr_neg.predict(str_neg_test) \n",
    "        errors_pos[i] = abs(predictions_pos[i]-gF[test_index])\n",
    "        errors_neg[i] = abs(predictions_neg[i]-gF[test_index])\n",
    "        i=i+1\n",
    "        f.value += 1\n",
    "        \n",
    "#interact(regress, p=(0.01,0.1,0.01),score=fixed(gF), edges=fixed(edges),continuous_update=False)\n",
    "p=0.01\n",
    "regress(p,gF,edges)"
   ]
  },
  {
   "cell_type": "code",
   "execution_count": 235,
   "metadata": {
    "collapsed": false
   },
   "outputs": [
    {
     "name": "stdout",
     "output_type": "stream",
     "text": [
      "0.120557761577\n"
     ]
    },
    {
     "data": {
      "image/png": "[encoded data removed]",
      "text/plain": [
       "<matplotlib.figure.Figure at 0x7facd6a86dd0>"
      ]
     },
     "metadata": {},
     "output_type": "display_data"
    },
    {
     "data": {
      "image/png": "[encoded data removed]",
      "text/plain": [
       "<matplotlib.figure.Figure at 0x7facd6786250>"
      ]
     },
     "metadata": {},
     "output_type": "display_data"
    }
   ],
   "source": [
    "plt.figure()\n",
    "plt.plot(all_behav,behav_pred_pos,'b.')\n",
    "plt.figure()\n",
    "plt.plot(all_behav,predictions_pos,'b.')\n",
    "print(R_pos)"
   ]
  }
 ],
 "metadata": {
  "anaconda-cloud": {},
  "kernelspec": {
   "display_name": "Python [conda root]",
   "language": "python",
   "name": "conda-root-py"
  },
  "language_info": {
   "codemirror_mode": {
    "name": "ipython",
    "version": 2
   },
   "file_extension": ".py",
   "mimetype": "text/x-python",
   "name": "python",
   "nbconvert_exporter": "python",
   "pygments_lexer": "ipython2",
   "version": "2.7.12"
  }
 },
 "nbformat": 4,
 "nbformat_minor": 1
}
