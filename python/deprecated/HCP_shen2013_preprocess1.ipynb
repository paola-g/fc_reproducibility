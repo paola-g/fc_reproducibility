{
 "cells": [
  {
   "cell_type": "markdown",
   "metadata": {},
   "source": [
    "This notebook runs a defined pipeline on HCP subjects, on the Cedars-Sinai cluster.\n",
    "After it is done preprocessing all subjects, it runs the leave-one-out IQ prediction a la Finn."
   ]
  },
  {
   "cell_type": "markdown",
   "metadata": {},
   "source": [
    "# Load libraries & helper functions"
   ]
  },
  {
   "cell_type": "code",
   "execution_count": 1,
   "metadata": {
    "collapsed": false
   },
   "outputs": [],
   "source": [
    "from helpers import *\n",
    "%matplotlib inline"
   ]
  },
  {
   "cell_type": "markdown",
   "metadata": {},
   "source": [
    "# Declare parameters"
   ]
  },
  {
   "cell_type": "code",
   "execution_count": 2,
   "metadata": {
    "collapsed": false
   },
   "outputs": [],
   "source": [
    "config.DATADIR                 = '/scratch/duboisjx/data/HCP/MRI'\n",
    "# fMRI runs\n",
    "session                        = 'REST1'\n",
    "fmriRuns                       = ['rfMRI_'+session+'_LR','rfMRI_'+session+'_RL']\n",
    "# use volume or surface data\n",
    "config.fmriFileTemplate        = '#fMRIrun#.nii.gz'\n",
    "#config.fmriFileTemplate        = '#fMRIrun#_Atlas.dtseries.nii'\n",
    "#config.fmriFileTemplate        = '#fMRIrun#_Atlas_MSMAll.dtseries.nii'\n",
    "config.melodicFolder           = op.join('#fMRIrun#_hp2000.ica','filtered_func_data.ica') #the code #fMRIrun# will be replaced\n",
    "config.movementRelativeRMSFile = 'Movement_RelativeRMS.txt'\n",
    "config.movementRegressorsFile  = 'Movement_Regressors_dt.txt'\n",
    "# parcellation for FC matrix\n",
    "config.parcellationName        = 'shen2013'\n",
    "config.parcellationFile        = '/scratch/duboisjx/data/parcellations/shenetal_neuroimage2013_new/shen_2mm_268_parcellation.nii.gz'\n",
    "config.nParcels                = 268\n",
    "config.maskParcelswithAll      = True\n",
    "config.maskParcelswithGM       = False\n",
    "# subject selection parameters\n",
    "config.behavFile               = '/scratch/duboisjx/data/HCP/neuropsych/unrestricted_luckydjuju_6_7_2017_0_44_41.csv'\n",
    "config.release                 = 'all'\n",
    "config.outScore                = 'PMAT24_A_CR'\n",
    "# submit jobs with sge\n",
    "config.queue        = True\n",
    "\n",
    "# do not alter the following lines\n",
    "if config.maskParcelswithGM:\n",
    "    config.parcellationName = config.parcellationName + '_GM'\n",
    "tmp = config.fmriFileTemplate.split('.')\n",
    "if tmp[1]=='nii':\n",
    "    config.isCifti = False\n",
    "elif tmp[1]=='dtseries':\n",
    "    config.isCifti = True\n",
    "else:\n",
    "    print 'unknown file extension'\n",
    "\n",
    "config.preWhitening            = False\n",
    "\n",
    "# whether to use memmapping (which involves unzipping)\n",
    "# deprecated\n",
    "config.useMemMap               = False\n"
   ]
  },
  {
   "cell_type": "markdown",
   "metadata": {},
   "source": [
    "# Do work"
   ]
  },
  {
   "cell_type": "markdown",
   "metadata": {},
   "source": [
    "### preprocess everybody"
   ]
  },
  {
   "cell_type": "code",
   "execution_count": 3,
   "metadata": {
    "collapsed": true
   },
   "outputs": [],
   "source": [
    "config.overwrite               = True\n",
    "config.pipelineName            = 'Gordon1'\n",
    "config.Operations              = config.operationDict[config.pipelineName]\n",
    "if config.pipelineName in ['SiegelA','SiegelB']:\n",
    "    config.useFIX              = True\n",
    "else:\n",
    "    config.useFIX              = False"
   ]
  },
  {
   "cell_type": "code",
   "execution_count": 5,
   "metadata": {
    "collapsed": false,
    "scrolled": false
   },
   "outputs": [
    {
     "name": "stdout",
     "output_type": "stream",
     "text": [
      "['/scratch/duboisjx/data/HCP/MRI/109325/MNINonLinear/Results/rfMRI_REST1_LR/jobs/s109325_rfMRI_REST1_LR_Gordon1_ciftiFalse_0829113359687431.sh', '/scratch/duboisjx/data/HCP/MRI/109325/MNINonLinear/Results/rfMRI_REST1_RL/jobs/s109325_rfMRI_REST1_RL_Gordon1_ciftiFalse_0829113359867000.sh']\n",
      "Running array job 541726 (2 sub jobs)\n"
     ]
    }
   ],
   "source": [
    "config.scriptlist = list()\n",
    "\n",
    "config.subject='109325'\n",
    "iRun = 0\n",
    "for config.fmriRun in fmriRuns:\n",
    "    runPipelinePar(launchSubproc=False)\n",
    "    iRun=iRun+1\n",
    "\n",
    "# launch array job (if there is something to do)\n",
    "if len(config.scriptlist)>0:\n",
    "    if len(config.scriptlist)<10:\n",
    "        print config.scriptlist\n",
    "    config.sgeopts      = '-l mem_free=25G -pe smp 6' \n",
    "    JobID = fnSubmitJobArrayFromJobList()\n",
    "    print 'Running array job {} ({} sub jobs)'.format(JobID.split('.')[0],JobID.split('.')[1].split('-')[1].split(':')[0])\n",
    "    config.joblist.append(JobID.split('.')[0])\n",
    "    checkProgress(pause=60,verbose=False)"
   ]
  }
 ],
 "metadata": {
  "anaconda-cloud": {},
  "kernelspec": {
   "display_name": "Python [default]",
   "language": "python",
   "name": "python2"
  },
  "language_info": {
   "codemirror_mode": {
    "name": "ipython",
    "version": 2
   },
   "file_extension": ".py",
   "mimetype": "text/x-python",
   "name": "python",
   "nbconvert_exporter": "python",
   "pygments_lexer": "ipython2",
   "version": "2.7.12"
  }
 },
 "nbformat": 4,
 "nbformat_minor": 1
}
