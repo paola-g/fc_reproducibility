{
 "cells": [
  {
   "cell_type": "markdown",
   "metadata": {},
   "source": [
    "# Load libraries & helper functions"
   ]
  },
  {
   "cell_type": "code",
   "execution_count": null,
   "metadata": {
    "collapsed": false
   },
   "outputs": [],
   "source": [
    "%matplotlib inline\n",
    "from helpers import *\n",
    "# Turn interactive plotting off\n",
    "plt.ioff()"
   ]
  },
  {
   "cell_type": "markdown",
   "metadata": {},
   "source": [
    "# Declare parameters"
   ]
  },
  {
   "cell_type": "code",
   "execution_count": null,
   "metadata": {
    "collapsed": false
   },
   "outputs": [],
   "source": [
    "config.DATADIR      = '/home/duboisjx/vault/data/CamCAN/MRI'\n",
    "config.fmriRun      = 'task-Movie_bold'\n",
    "# use volume or surface data\n",
    "config.isCifti      = False\n",
    "\n",
    "config.pipelineName = 'Finn'\n",
    "# use ICA-FIX as starting point\n",
    "config.useFIX       = False\n",
    "config.preWhitening = False\n",
    "config.Operations   = config.operationDict[config.pipelineName]\n",
    "\n",
    "config.overwrite    = False\n",
    "\n",
    "# submit jobs with sge\n",
    "config.queue        = False\n",
    "# make sure to set memory requirements according to data size\n",
    "# 15G for HCP data!\n",
    "config.maxvmem      = '4G'\n",
    "\n",
    "# parcellation for FC matrix\n",
    "config.parcellationName = 'shen2013'\n",
    "config.parcellationFile = '/home/duboisjx/vault/data/parcellations/shenetal_neuroimage2013_new/shen_3mm_268_parcellation.nii.gz'\n",
    "config.nParcels         = 268\n",
    "\n",
    "subjects = [d for d in listdir(config.DATADIR) if d[0:6]==\"sub-CC\"]\n",
    "subjects.sort()\n",
    "print 'Found {} subjects'.format(len(subjects))\n",
    "#print subjects"
   ]
  },
  {
   "cell_type": "markdown",
   "metadata": {},
   "source": [
    "# Do work"
   ]
  },
  {
   "cell_type": "code",
   "execution_count": null,
   "metadata": {
    "collapsed": false,
    "scrolled": false
   },
   "outputs": [],
   "source": [
    "keep      = np.zeros((len(subjects)),dtype=np.bool_)\n",
    "fdScores  = np.zeros((len(subjects)),dtype=np.float32)\n",
    "fcMats    = np.zeros((config.nParcels,config.nParcels,len(subjects)),dtype=np.float32)\n",
    "fcMats_dn = np.zeros((config.nParcels,config.nParcels,len(subjects)),dtype=np.float32)\n",
    "i=0\n",
    "displayPlot=False\n",
    "for config.subject in subjects:\n",
    "    print 'SUB {}/{}: {}'.format(i+1,len(subjects),config.subject)\n",
    "    keep[i] = runPipelinePar()\n",
    "    if keep[i]:\n",
    "        fcMats[:,:,i],fcMats_dn[:,:,i] = plotFC(displayPlot)\n",
    "        fdScores[i]=np.mean(computeFD())\n",
    "    i = i + 1\n",
    "print 'Using {}/{} subjects'.format(np.sum(keep),len(subjects))\n",
    "fdScores  = fdScores[keep]\n",
    "fcMats    = fcMats[:,:,keep]\n",
    "fcMats_dn = fcMats_dn[:,:,keep]\n",
    "\n",
    "# rsFC/mean FD plot\n",
    "# since this is a correlation across subjects, it makes most sense if we have enough subjects\n",
    "if len(subjects)>20:    \n",
    "    plotQCrsFC(fcMats,fcMats_dn,fdScores)\n",
    "    \n",
    "# deltaR plot\n",
    "plotDeltaR(fcMats,fcMats_dn)\n"
   ]
  }
 ],
 "metadata": {
  "anaconda-cloud": {},
  "kernelspec": {
   "display_name": "Python [conda root]",
   "language": "python",
   "name": "conda-root-py"
  },
  "language_info": {
   "codemirror_mode": {
    "name": "ipython",
    "version": 2
   },
   "file_extension": ".py",
   "mimetype": "text/x-python",
   "name": "python",
   "nbconvert_exporter": "python",
   "pygments_lexer": "ipython2",
   "version": "2.7.12"
  }
 },
 "nbformat": 4,
 "nbformat_minor": 1
}
